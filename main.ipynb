{
 "cells": [
  {
   "cell_type": "code",
   "execution_count": 1,
   "id": "e28e6a4b",
   "metadata": {
    "_cell_guid": "b1076dfc-b9ad-4769-8c92-a6c4dae69d19",
    "_uuid": "8f2839f25d086af736a60e9eeb907d3b93b6e0e5",
    "execution": {
     "iopub.execute_input": "2025-02-25T03:37:05.111894Z",
     "iopub.status.busy": "2025-02-25T03:37:05.111566Z",
     "iopub.status.idle": "2025-02-25T03:37:06.424559Z",
     "shell.execute_reply": "2025-02-25T03:37:06.423571Z"
    },
    "papermill": {
     "duration": 1.320506,
     "end_time": "2025-02-25T03:37:06.426281",
     "exception": false,
     "start_time": "2025-02-25T03:37:05.105775",
     "status": "completed"
    },
    "tags": []
   },
   "outputs": [
    {
     "name": "stdout",
     "output_type": "stream",
     "text": [
      "/kaggle/input/march-machine-learning-mania-2025/Conferences.csv\n",
      "/kaggle/input/march-machine-learning-mania-2025/SeedBenchmarkStage1.csv\n",
      "/kaggle/input/march-machine-learning-mania-2025/WNCAATourneyDetailedResults.csv\n",
      "/kaggle/input/march-machine-learning-mania-2025/WRegularSeasonCompactResults.csv\n",
      "/kaggle/input/march-machine-learning-mania-2025/MNCAATourneySeedRoundSlots.csv\n",
      "/kaggle/input/march-machine-learning-mania-2025/MRegularSeasonDetailedResults.csv\n",
      "/kaggle/input/march-machine-learning-mania-2025/MNCAATourneyCompactResults.csv\n",
      "/kaggle/input/march-machine-learning-mania-2025/MGameCities.csv\n",
      "/kaggle/input/march-machine-learning-mania-2025/WSecondaryTourneyCompactResults.csv\n",
      "/kaggle/input/march-machine-learning-mania-2025/WGameCities.csv\n",
      "/kaggle/input/march-machine-learning-mania-2025/MSeasons.csv\n",
      "/kaggle/input/march-machine-learning-mania-2025/WNCAATourneySlots.csv\n",
      "/kaggle/input/march-machine-learning-mania-2025/MSecondaryTourneyTeams.csv\n",
      "/kaggle/input/march-machine-learning-mania-2025/SampleSubmissionStage2.csv\n",
      "/kaggle/input/march-machine-learning-mania-2025/Cities.csv\n",
      "/kaggle/input/march-machine-learning-mania-2025/MTeamSpellings.csv\n",
      "/kaggle/input/march-machine-learning-mania-2025/MRegularSeasonCompactResults.csv\n",
      "/kaggle/input/march-machine-learning-mania-2025/MMasseyOrdinals.csv\n",
      "/kaggle/input/march-machine-learning-mania-2025/MSecondaryTourneyCompactResults.csv\n",
      "/kaggle/input/march-machine-learning-mania-2025/WTeams.csv\n",
      "/kaggle/input/march-machine-learning-mania-2025/WConferenceTourneyGames.csv\n",
      "/kaggle/input/march-machine-learning-mania-2025/MNCAATourneySlots.csv\n",
      "/kaggle/input/march-machine-learning-mania-2025/MNCAATourneySeeds.csv\n",
      "/kaggle/input/march-machine-learning-mania-2025/WNCAATourneyCompactResults.csv\n",
      "/kaggle/input/march-machine-learning-mania-2025/WSeasons.csv\n",
      "/kaggle/input/march-machine-learning-mania-2025/WNCAATourneySeeds.csv\n",
      "/kaggle/input/march-machine-learning-mania-2025/MTeamCoaches.csv\n",
      "/kaggle/input/march-machine-learning-mania-2025/MConferenceTourneyGames.csv\n",
      "/kaggle/input/march-machine-learning-mania-2025/WRegularSeasonDetailedResults.csv\n",
      "/kaggle/input/march-machine-learning-mania-2025/MNCAATourneyDetailedResults.csv\n",
      "/kaggle/input/march-machine-learning-mania-2025/WTeamSpellings.csv\n",
      "/kaggle/input/march-machine-learning-mania-2025/MTeamConferences.csv\n",
      "/kaggle/input/march-machine-learning-mania-2025/MTeams.csv\n",
      "/kaggle/input/march-machine-learning-mania-2025/WTeamConferences.csv\n",
      "/kaggle/input/march-machine-learning-mania-2025/SampleSubmissionStage1.csv\n",
      "/kaggle/input/march-machine-learning-mania-2025/WSecondaryTourneyTeams.csv\n"
     ]
    }
   ],
   "source": [
    "# This Python 3 environment comes with many helpful analytics libraries installed\n",
    "# It is defined by the kaggle/python Docker image: https://github.com/kaggle/docker-python\n",
    "# For example, here's several helpful packages to load\n",
    "\n",
    "import numpy as np # linear algebra\n",
    "import pandas as pd # data processing, CSV file I/O (e.g. pd.read_csv)\n",
    "\n",
    "# Input data files are available in the read-only \"../input/\" directory\n",
    "# For example, running this (by clicking run or pressing Shift+Enter) will list all files under the input directory\n",
    "\n",
    "import os\n",
    "for dirname, _, filenames in os.walk('/kaggle/input'):\n",
    "    for filename in filenames:\n",
    "        print(os.path.join(dirname, filename))\n",
    "\n",
    "# You can write up to 20GB to the current directory (/kaggle/working/) that gets preserved as output when you create a version using \"Save & Run All\" \n",
    "# You can also write temporary files to /kaggle/temp/, but they won't be saved outside of the current session"
   ]
  },
  {
   "cell_type": "markdown",
   "id": "bef6939f",
   "metadata": {
    "papermill": {
     "duration": 0.003749,
     "end_time": "2025-02-25T03:37:06.434464",
     "exception": false,
     "start_time": "2025-02-25T03:37:06.430715",
     "status": "completed"
    },
    "tags": []
   },
   "source": [
    "# EDA"
   ]
  },
  {
   "cell_type": "markdown",
   "id": "fb09c37a",
   "metadata": {
    "papermill": {
     "duration": 0.003699,
     "end_time": "2025-02-25T03:37:06.442111",
     "exception": false,
     "start_time": "2025-02-25T03:37:06.438412",
     "status": "completed"
    },
    "tags": []
   },
   "source": [
    "# Simple starter code"
   ]
  },
  {
   "cell_type": "code",
   "execution_count": 2,
   "id": "d1780697",
   "metadata": {
    "execution": {
     "iopub.execute_input": "2025-02-25T03:37:06.451677Z",
     "iopub.status.busy": "2025-02-25T03:37:06.451143Z",
     "iopub.status.idle": "2025-02-25T03:37:06.593757Z",
     "shell.execute_reply": "2025-02-25T03:37:06.592904Z"
    },
    "papermill": {
     "duration": 0.14951,
     "end_time": "2025-02-25T03:37:06.595649",
     "exception": false,
     "start_time": "2025-02-25T03:37:06.446139",
     "status": "completed"
    },
    "tags": []
   },
   "outputs": [],
   "source": [
    "w_seed = pd.read_csv('/kaggle/input/march-machine-learning-mania-2025/WNCAATourneySeeds.csv')\n",
    "m_seed = pd.read_csv('/kaggle/input/march-machine-learning-mania-2025/MNCAATourneySeeds.csv')\n",
    "seed_df = pd.concat([m_seed, w_seed], axis=0).fillna(0.05)\n",
    "submission_df = pd.read_csv('/kaggle/input/march-machine-learning-mania-2025/SampleSubmissionStage2.csv')"
   ]
  },
  {
   "cell_type": "markdown",
   "id": "f013f572",
   "metadata": {
    "papermill": {
     "duration": 0.003769,
     "end_time": "2025-02-25T03:37:06.603667",
     "exception": false,
     "start_time": "2025-02-25T03:37:06.599898",
     "status": "completed"
    },
    "tags": []
   },
   "source": [
    "Team rankings are present in the files WNCAATourneySeeds.csv and MNCAATourneySeeds.csv.\n",
    "\n",
    "- The \"Season\" column indicates the year\n",
    "- The \"Seed\" column indicates the ranking for a given conference (W01 = ranking 1 in conference W)\n",
    "- The \"TeamID\" column contains a unique identifier for every team"
   ]
  },
  {
   "cell_type": "code",
   "execution_count": 3,
   "id": "19b7c2a0",
   "metadata": {
    "execution": {
     "iopub.execute_input": "2025-02-25T03:37:06.612966Z",
     "iopub.status.busy": "2025-02-25T03:37:06.612637Z",
     "iopub.status.idle": "2025-02-25T03:37:06.657486Z",
     "shell.execute_reply": "2025-02-25T03:37:06.656509Z"
    },
    "papermill": {
     "duration": 0.051601,
     "end_time": "2025-02-25T03:37:06.659270",
     "exception": false,
     "start_time": "2025-02-25T03:37:06.607669",
     "status": "completed"
    },
    "tags": []
   },
   "outputs": [
    {
     "data": {
      "text/html": [
       "<div>\n",
       "<style scoped>\n",
       "    .dataframe tbody tr th:only-of-type {\n",
       "        vertical-align: middle;\n",
       "    }\n",
       "\n",
       "    .dataframe tbody tr th {\n",
       "        vertical-align: top;\n",
       "    }\n",
       "\n",
       "    .dataframe thead th {\n",
       "        text-align: right;\n",
       "    }\n",
       "</style>\n",
       "<table border=\"1\" class=\"dataframe\">\n",
       "  <thead>\n",
       "    <tr style=\"text-align: right;\">\n",
       "      <th></th>\n",
       "      <th>Season</th>\n",
       "      <th>Seed</th>\n",
       "      <th>TeamID</th>\n",
       "    </tr>\n",
       "  </thead>\n",
       "  <tbody>\n",
       "    <tr>\n",
       "      <th>0</th>\n",
       "      <td>1985</td>\n",
       "      <td>W01</td>\n",
       "      <td>1207</td>\n",
       "    </tr>\n",
       "    <tr>\n",
       "      <th>1</th>\n",
       "      <td>1985</td>\n",
       "      <td>W02</td>\n",
       "      <td>1210</td>\n",
       "    </tr>\n",
       "    <tr>\n",
       "      <th>2</th>\n",
       "      <td>1985</td>\n",
       "      <td>W03</td>\n",
       "      <td>1228</td>\n",
       "    </tr>\n",
       "    <tr>\n",
       "      <th>3</th>\n",
       "      <td>1985</td>\n",
       "      <td>W04</td>\n",
       "      <td>1260</td>\n",
       "    </tr>\n",
       "    <tr>\n",
       "      <th>4</th>\n",
       "      <td>1985</td>\n",
       "      <td>W05</td>\n",
       "      <td>1374</td>\n",
       "    </tr>\n",
       "  </tbody>\n",
       "</table>\n",
       "</div>"
      ],
      "text/plain": [
       "   Season Seed  TeamID\n",
       "0    1985  W01    1207\n",
       "1    1985  W02    1210\n",
       "2    1985  W03    1228\n",
       "3    1985  W04    1260\n",
       "4    1985  W05    1374"
      ]
     },
     "execution_count": 3,
     "metadata": {},
     "output_type": "execute_result"
    }
   ],
   "source": [
    "seed_df.head()"
   ]
  },
  {
   "cell_type": "markdown",
   "id": "1f4481a4",
   "metadata": {
    "papermill": {
     "duration": 0.00393,
     "end_time": "2025-02-25T03:37:06.667505",
     "exception": false,
     "start_time": "2025-02-25T03:37:06.663575",
     "status": "completed"
    },
    "tags": []
   },
   "source": [
    "The sample_submission.csv file contains an \"ID\" column with the format year_teamID1_teamID2."
   ]
  },
  {
   "cell_type": "code",
   "execution_count": 4,
   "id": "ef2761f9",
   "metadata": {
    "execution": {
     "iopub.execute_input": "2025-02-25T03:37:06.677094Z",
     "iopub.status.busy": "2025-02-25T03:37:06.676746Z",
     "iopub.status.idle": "2025-02-25T03:37:06.685686Z",
     "shell.execute_reply": "2025-02-25T03:37:06.684697Z"
    },
    "papermill": {
     "duration": 0.015638,
     "end_time": "2025-02-25T03:37:06.687368",
     "exception": false,
     "start_time": "2025-02-25T03:37:06.671730",
     "status": "completed"
    },
    "tags": []
   },
   "outputs": [
    {
     "data": {
      "text/html": [
       "<div>\n",
       "<style scoped>\n",
       "    .dataframe tbody tr th:only-of-type {\n",
       "        vertical-align: middle;\n",
       "    }\n",
       "\n",
       "    .dataframe tbody tr th {\n",
       "        vertical-align: top;\n",
       "    }\n",
       "\n",
       "    .dataframe thead th {\n",
       "        text-align: right;\n",
       "    }\n",
       "</style>\n",
       "<table border=\"1\" class=\"dataframe\">\n",
       "  <thead>\n",
       "    <tr style=\"text-align: right;\">\n",
       "      <th></th>\n",
       "      <th>ID</th>\n",
       "      <th>Pred</th>\n",
       "    </tr>\n",
       "  </thead>\n",
       "  <tbody>\n",
       "    <tr>\n",
       "      <th>0</th>\n",
       "      <td>2025_1101_1102</td>\n",
       "      <td>0.5</td>\n",
       "    </tr>\n",
       "    <tr>\n",
       "      <th>1</th>\n",
       "      <td>2025_1101_1103</td>\n",
       "      <td>0.5</td>\n",
       "    </tr>\n",
       "    <tr>\n",
       "      <th>2</th>\n",
       "      <td>2025_1101_1104</td>\n",
       "      <td>0.5</td>\n",
       "    </tr>\n",
       "    <tr>\n",
       "      <th>3</th>\n",
       "      <td>2025_1101_1105</td>\n",
       "      <td>0.5</td>\n",
       "    </tr>\n",
       "    <tr>\n",
       "      <th>4</th>\n",
       "      <td>2025_1101_1106</td>\n",
       "      <td>0.5</td>\n",
       "    </tr>\n",
       "  </tbody>\n",
       "</table>\n",
       "</div>"
      ],
      "text/plain": [
       "               ID  Pred\n",
       "0  2025_1101_1102   0.5\n",
       "1  2025_1101_1103   0.5\n",
       "2  2025_1101_1104   0.5\n",
       "3  2025_1101_1105   0.5\n",
       "4  2025_1101_1106   0.5"
      ]
     },
     "execution_count": 4,
     "metadata": {},
     "output_type": "execute_result"
    }
   ],
   "source": [
    "submission_df.head()"
   ]
  },
  {
   "cell_type": "markdown",
   "id": "10d1974f",
   "metadata": {
    "papermill": {
     "duration": 0.004029,
     "end_time": "2025-02-25T03:37:06.695895",
     "exception": false,
     "start_time": "2025-02-25T03:37:06.691866",
     "status": "completed"
    },
    "tags": []
   },
   "source": [
    "## Extract game info and team rankings"
   ]
  },
  {
   "cell_type": "code",
   "execution_count": 5,
   "id": "f4a8db16",
   "metadata": {
    "execution": {
     "iopub.execute_input": "2025-02-25T03:37:06.706237Z",
     "iopub.status.busy": "2025-02-25T03:37:06.705852Z",
     "iopub.status.idle": "2025-02-25T03:37:07.132948Z",
     "shell.execute_reply": "2025-02-25T03:37:07.131619Z"
    },
    "papermill": {
     "duration": 0.434619,
     "end_time": "2025-02-25T03:37:07.134828",
     "exception": false,
     "start_time": "2025-02-25T03:37:06.700209",
     "status": "completed"
    },
    "tags": []
   },
   "outputs": [
    {
     "name": "stdout",
     "output_type": "stream",
     "text": [
      "                    ID  Pred  Season  TeamID1  TeamID2  SeedValue1  SeedValue2\n",
      "0       2025_1101_1102   0.5    2025     1101     1102         NaN         NaN\n",
      "1       2025_1101_1103   0.5    2025     1101     1103         NaN         NaN\n",
      "2       2025_1101_1104   0.5    2025     1101     1104         NaN         NaN\n",
      "3       2025_1101_1105   0.5    2025     1101     1105         NaN         NaN\n",
      "4       2025_1101_1106   0.5    2025     1101     1106         NaN         NaN\n",
      "...                ...   ...     ...      ...      ...         ...         ...\n",
      "131402  2025_3477_3479   0.5    2025     3477     3479         NaN         NaN\n",
      "131403  2025_3477_3480   0.5    2025     3477     3480         NaN         NaN\n",
      "131404  2025_3478_3479   0.5    2025     3478     3479         NaN         NaN\n",
      "131405  2025_3478_3480   0.5    2025     3478     3480         NaN         NaN\n",
      "131406  2025_3479_3480   0.5    2025     3479     3480         NaN         NaN\n",
      "\n",
      "[131407 rows x 7 columns]\n"
     ]
    },
    {
     "name": "stderr",
     "output_type": "stream",
     "text": [
      "/usr/local/lib/python3.10/dist-packages/pandas/io/formats/format.py:1458: RuntimeWarning: invalid value encountered in greater\n",
      "  has_large_values = (abs_vals > 1e6).any()\n",
      "/usr/local/lib/python3.10/dist-packages/pandas/io/formats/format.py:1459: RuntimeWarning: invalid value encountered in less\n",
      "  has_small_values = ((abs_vals < 10 ** (-self.digits)) & (abs_vals > 0)).any()\n",
      "/usr/local/lib/python3.10/dist-packages/pandas/io/formats/format.py:1459: RuntimeWarning: invalid value encountered in greater\n",
      "  has_small_values = ((abs_vals < 10 ** (-self.digits)) & (abs_vals > 0)).any()\n"
     ]
    }
   ],
   "source": [
    "def extract_game_info(id_str):\n",
    "    # Extract year and team_ids\n",
    "    parts = id_str.split('_')\n",
    "    year = int(parts[0])\n",
    "    teamID1 = int(parts[1])\n",
    "    teamID2 = int(parts[2])\n",
    "    return year, teamID1, teamID2\n",
    "\n",
    "def extract_seed_value(seed_str):\n",
    "    # Extract seed value\n",
    "    try:\n",
    "        return int(seed_str[1:])\n",
    "    # Set seed to 16 for unselected teams and errors\n",
    "    except ValueError:\n",
    "        return 16\n",
    "\n",
    "# Reformat the data\n",
    "submission_df[['Season', 'TeamID1', 'TeamID2']] = submission_df['ID'].apply(extract_game_info).tolist()\n",
    "seed_df['SeedValue'] = seed_df['Seed'].apply(extract_seed_value)\n",
    "\n",
    "# Merge seed information for TeamID1\n",
    "submission_df = pd.merge(submission_df, seed_df[['Season', 'TeamID', 'SeedValue']],\n",
    "                         left_on=['Season', 'TeamID1'], right_on=['Season', 'TeamID'],\n",
    "                         how='left')\n",
    "submission_df = submission_df.rename(columns={'SeedValue': 'SeedValue1'}).drop(columns=['TeamID'])\n",
    "\n",
    "# Merge seed information for TeamID2\n",
    "submission_df = pd.merge(submission_df, seed_df[['Season', 'TeamID', 'SeedValue']],\n",
    "                         left_on=['Season', 'TeamID2'], right_on=['Season', 'TeamID'],\n",
    "                         how='left')\n",
    "submission_df = submission_df.rename(columns={'SeedValue': 'SeedValue2'}).drop(columns=['TeamID'])\n",
    "print(submission_df)"
   ]
  },
  {
   "cell_type": "markdown",
   "id": "c7deee08",
   "metadata": {
    "papermill": {
     "duration": 0.004195,
     "end_time": "2025-02-25T03:37:07.143730",
     "exception": false,
     "start_time": "2025-02-25T03:37:07.139535",
     "status": "completed"
    },
    "tags": []
   },
   "source": [
    "## Make your predictions"
   ]
  },
  {
   "cell_type": "code",
   "execution_count": 6,
   "id": "aeb98bac",
   "metadata": {
    "execution": {
     "iopub.execute_input": "2025-02-25T03:37:07.153891Z",
     "iopub.status.busy": "2025-02-25T03:37:07.153567Z",
     "iopub.status.idle": "2025-02-25T03:37:07.206456Z",
     "shell.execute_reply": "2025-02-25T03:37:07.205247Z"
    },
    "papermill": {
     "duration": 0.060239,
     "end_time": "2025-02-25T03:37:07.208404",
     "exception": false,
     "start_time": "2025-02-25T03:37:07.148165",
     "status": "completed"
    },
    "tags": []
   },
   "outputs": [
    {
     "data": {
      "text/html": [
       "<div>\n",
       "<style scoped>\n",
       "    .dataframe tbody tr th:only-of-type {\n",
       "        vertical-align: middle;\n",
       "    }\n",
       "\n",
       "    .dataframe tbody tr th {\n",
       "        vertical-align: top;\n",
       "    }\n",
       "\n",
       "    .dataframe thead th {\n",
       "        text-align: right;\n",
       "    }\n",
       "</style>\n",
       "<table border=\"1\" class=\"dataframe\">\n",
       "  <thead>\n",
       "    <tr style=\"text-align: right;\">\n",
       "      <th></th>\n",
       "      <th>ID</th>\n",
       "      <th>Pred</th>\n",
       "    </tr>\n",
       "  </thead>\n",
       "  <tbody>\n",
       "    <tr>\n",
       "      <th>0</th>\n",
       "      <td>2025_1101_1102</td>\n",
       "      <td>0.5</td>\n",
       "    </tr>\n",
       "    <tr>\n",
       "      <th>1</th>\n",
       "      <td>2025_1101_1103</td>\n",
       "      <td>0.5</td>\n",
       "    </tr>\n",
       "    <tr>\n",
       "      <th>2</th>\n",
       "      <td>2025_1101_1104</td>\n",
       "      <td>0.5</td>\n",
       "    </tr>\n",
       "    <tr>\n",
       "      <th>3</th>\n",
       "      <td>2025_1101_1105</td>\n",
       "      <td>0.5</td>\n",
       "    </tr>\n",
       "    <tr>\n",
       "      <th>4</th>\n",
       "      <td>2025_1101_1106</td>\n",
       "      <td>0.5</td>\n",
       "    </tr>\n",
       "  </tbody>\n",
       "</table>\n",
       "</div>"
      ],
      "text/plain": [
       "               ID  Pred\n",
       "0  2025_1101_1102   0.5\n",
       "1  2025_1101_1103   0.5\n",
       "2  2025_1101_1104   0.5\n",
       "3  2025_1101_1105   0.5\n",
       "4  2025_1101_1106   0.5"
      ]
     },
     "execution_count": 6,
     "metadata": {},
     "output_type": "execute_result"
    }
   ],
   "source": [
    "# Calculate seed difference\n",
    "submission_df['SeedDiff'] = submission_df['SeedValue1'] - submission_df['SeedValue2']\n",
    "\n",
    "# Update 'Pred' column\n",
    "submission_df['Pred'] = 0.5 + (0.03 * submission_df['SeedDiff'])\n",
    "\n",
    "# Drop unnecessary columns\n",
    "submission_df = submission_df[['ID', 'Pred']].fillna(0.5)\n",
    "\n",
    "# Preview your submission\n",
    "submission_df.head()"
   ]
  },
  {
   "cell_type": "code",
   "execution_count": 7,
   "id": "0318aab9",
   "metadata": {
    "execution": {
     "iopub.execute_input": "2025-02-25T03:37:07.219309Z",
     "iopub.status.busy": "2025-02-25T03:37:07.218929Z",
     "iopub.status.idle": "2025-02-25T03:37:07.239676Z",
     "shell.execute_reply": "2025-02-25T03:37:07.238378Z"
    },
    "papermill": {
     "duration": 0.028129,
     "end_time": "2025-02-25T03:37:07.241442",
     "exception": false,
     "start_time": "2025-02-25T03:37:07.213313",
     "status": "completed"
    },
    "tags": []
   },
   "outputs": [
    {
     "name": "stdout",
     "output_type": "stream",
     "text": [
      "count    131407.0\n",
      "mean          0.5\n",
      "std           0.0\n",
      "min           0.5\n",
      "25%           0.5\n",
      "50%           0.5\n",
      "75%           0.5\n",
      "max           0.5\n",
      "Name: Pred, dtype: float64\n"
     ]
    }
   ],
   "source": [
    "stats = submission_df.iloc[:, 1].describe()\n",
    "print(stats)"
   ]
  },
  {
   "cell_type": "markdown",
   "id": "8c352ba5",
   "metadata": {
    "papermill": {
     "duration": 0.004483,
     "end_time": "2025-02-25T03:37:07.250950",
     "exception": false,
     "start_time": "2025-02-25T03:37:07.246467",
     "status": "completed"
    },
    "tags": []
   },
   "source": [
    "## Understand the metric\n",
    "We don't know the outcomes of the games, so instead let's assume that the team that was listed first won every single matchup. This is what we'll call our \"true value\". Next, we'll calculate the average squared difference between the probabilities in our submission and that ground truth value. We'll call this the \"Brier score\". https://en.wikipedia.org/wiki/Brier_score"
   ]
  },
  {
   "cell_type": "code",
   "execution_count": 8,
   "id": "03bbba95",
   "metadata": {
    "execution": {
     "iopub.execute_input": "2025-02-25T03:37:07.262058Z",
     "iopub.status.busy": "2025-02-25T03:37:07.261658Z",
     "iopub.status.idle": "2025-02-25T03:37:09.529532Z",
     "shell.execute_reply": "2025-02-25T03:37:09.527877Z"
    },
    "papermill": {
     "duration": 2.275942,
     "end_time": "2025-02-25T03:37:09.531699",
     "exception": false,
     "start_time": "2025-02-25T03:37:07.255757",
     "status": "completed"
    },
    "tags": []
   },
   "outputs": [
    {
     "name": "stdout",
     "output_type": "stream",
     "text": [
      "Brier Score: 0.25\n"
     ]
    }
   ],
   "source": [
    "from sklearn.metrics import brier_score_loss, mean_squared_error\n",
    "\n",
    "# Create a dataframe of ground truth values\n",
    "solution_df = submission_df.copy()\n",
    "solution_df['Pred'] = 1\n",
    "\n",
    "# Now calculate the Brier score\n",
    "y_true = solution_df['Pred']\n",
    "y_pred = submission_df['Pred']\n",
    "brier_score = brier_score_loss(y_true, y_pred)\n",
    "print(f\"Brier Score: {brier_score}\")"
   ]
  },
  {
   "cell_type": "markdown",
   "id": "4e95ea1e",
   "metadata": {
    "papermill": {
     "duration": 0.005048,
     "end_time": "2025-02-25T03:37:09.542169",
     "exception": false,
     "start_time": "2025-02-25T03:37:09.537121",
     "status": "completed"
    },
    "tags": []
   },
   "source": [
    "# Create label data"
   ]
  },
  {
   "cell_type": "code",
   "execution_count": 9,
   "id": "0f6f3c60",
   "metadata": {
    "execution": {
     "iopub.execute_input": "2025-02-25T03:37:09.554894Z",
     "iopub.status.busy": "2025-02-25T03:37:09.554300Z",
     "iopub.status.idle": "2025-02-25T03:37:09.953860Z",
     "shell.execute_reply": "2025-02-25T03:37:09.952538Z"
    },
    "papermill": {
     "duration": 0.408217,
     "end_time": "2025-02-25T03:37:09.955815",
     "exception": false,
     "start_time": "2025-02-25T03:37:09.547598",
     "status": "completed"
    },
    "tags": []
   },
   "outputs": [
    {
     "name": "stdout",
     "output_type": "stream",
     "text": [
      "        Season  DayNum  WTeamID  WScore  LTeamID  LScore WLoc  NumOT\n",
      "0         1985      20     1228      81     1328      64    N      0\n",
      "1         1985      25     1106      77     1354      70    H      0\n",
      "2         1985      25     1112      63     1223      56    H      0\n",
      "3         1985      25     1165      70     1432      54    H      0\n",
      "4         1985      25     1192      86     1447      74    H      0\n",
      "...        ...     ...      ...     ...      ...     ...  ...    ...\n",
      "135943    2025     106     3242      63     3416      58    H      0\n",
      "135944    2025     106     3329      68     3428      64    A      0\n",
      "135945    2025     106     3349      72     3194      39    H      0\n",
      "135946    2025     106     3378      70     3150      52    A      0\n",
      "135947    2025     106     3404      73     3398      52    H      0\n",
      "\n",
      "[327744 rows x 8 columns]\n"
     ]
    }
   ],
   "source": [
    "m_season = pd.read_csv('/kaggle/input/march-machine-learning-mania-2025/MRegularSeasonCompactResults.csv')\n",
    "w_season = pd.read_csv('/kaggle/input/march-machine-learning-mania-2025/WRegularSeasonCompactResults.csv')\n",
    "season_results = pd.concat([m_season, w_season])\n",
    "print(season_results)"
   ]
  },
  {
   "cell_type": "markdown",
   "id": "80237b22",
   "metadata": {
    "papermill": {
     "duration": 0.004815,
     "end_time": "2025-02-25T03:37:09.966076",
     "exception": false,
     "start_time": "2025-02-25T03:37:09.961261",
     "status": "completed"
    },
    "tags": []
   },
   "source": [
    "# Make submission"
   ]
  },
  {
   "cell_type": "code",
   "execution_count": 10,
   "id": "10f79fa6",
   "metadata": {
    "execution": {
     "iopub.execute_input": "2025-02-25T03:37:09.977151Z",
     "iopub.status.busy": "2025-02-25T03:37:09.976741Z",
     "iopub.status.idle": "2025-02-25T03:37:10.143128Z",
     "shell.execute_reply": "2025-02-25T03:37:10.142112Z"
    },
    "papermill": {
     "duration": 0.174078,
     "end_time": "2025-02-25T03:37:10.145080",
     "exception": false,
     "start_time": "2025-02-25T03:37:09.971002",
     "status": "completed"
    },
    "tags": []
   },
   "outputs": [],
   "source": [
    "submission_df.to_csv('/kaggle/working/submission.csv', index=False)"
   ]
  }
 ],
 "metadata": {
  "kaggle": {
   "accelerator": "none",
   "dataSources": [
    {
     "databundleVersionId": 11165145,
     "sourceId": 91497,
     "sourceType": "competition"
    }
   ],
   "dockerImageVersionId": 30918,
   "isGpuEnabled": false,
   "isInternetEnabled": true,
   "language": "python",
   "sourceType": "notebook"
  },
  "kernelspec": {
   "display_name": "Python 3",
   "language": "python",
   "name": "python3"
  },
  "language_info": {
   "codemirror_mode": {
    "name": "ipython",
    "version": 3
   },
   "file_extension": ".py",
   "mimetype": "text/x-python",
   "name": "python",
   "nbconvert_exporter": "python",
   "pygments_lexer": "ipython3",
   "version": "3.10.12"
  },
  "papermill": {
   "default_parameters": {},
   "duration": 8.755239,
   "end_time": "2025-02-25T03:37:10.870660",
   "environment_variables": {},
   "exception": null,
   "input_path": "__notebook__.ipynb",
   "output_path": "__notebook__.ipynb",
   "parameters": {},
   "start_time": "2025-02-25T03:37:02.115421",
   "version": "2.6.0"
  }
 },
 "nbformat": 4,
 "nbformat_minor": 5
}
