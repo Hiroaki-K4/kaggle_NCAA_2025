{
    "metadata": {
        "kernelspec": {
            "display_name": "Python 3",
            "language": "python",
            "name": "python3"
        },
        "language_info": {
            "codemirror_mode": {
                "name": "ipython",
                "version": 3
            },
            "file_extension": ".py",
            "mimetype": "text/x-python",
            "name": "python",
            "nbconvert_exporter": "python",
            "pygments_lexer": "ipython3",
            "version": "3.10.12"
        },
        "kaggle": {
            "accelerator": "none",
            "dataSources": [
                {
                    "sourceId": 91497,
                    "databundleVersionId": 11165145,
                    "sourceType": "competition"
                }
            ],
            "dockerImageVersionId": 30918,
            "isInternetEnabled": true,
            "language": "python",
            "sourceType": "notebook",
            "isGpuEnabled": false
        },
        "papermill": {
            "default_parameters": {},
            "duration": 1059.702184,
            "end_time": "2025-02-24T23:07:34.892198",
            "environment_variables": {},
            "exception": null,
            "input_path": "__notebook__.ipynb",
            "output_path": "__notebook__.ipynb",
            "parameters": {},
            "start_time": "2025-02-24T22:49:55.190014",
            "version": "2.6.0"
        }
    },
    "nbformat_minor": 5,
    "nbformat": 4,
    "cells": [
        {
            "id": "517e41c8",
            "cell_type": "code",
            "source": "# This Python 3 environment comes with many helpful analytics libraries installed\n# It is defined by the kaggle/python Docker image: https://github.com/kaggle/docker-python\n# For example, here's several helpful packages to load\n\nimport numpy as np # linear algebra\nimport pandas as pd # data processing, CSV file I/O (e.g. pd.read_csv)\nimport matplotlib.pyplot as plt\nimport seaborn as sns\nfrom sklearn.model_selection import cross_val_score, KFold, train_test_split\nfrom sklearn.preprocessing import MinMaxScaler\nimport xgboost\n\n# Input data files are available in the read-only \"../input/\" directory\n# For example, running this (by clicking run or pressing Shift+Enter) will list all files under the input directory\n\nimport os\nfor dirname, _, filenames in os.walk('/kaggle/input'):\n    for filename in filenames:\n        print(os.path.join(dirname, filename))\n\n# You can write up to 20GB to the current directory (/kaggle/working/) that gets preserved as output when you create a version using \"Save & Run All\" \n# You can also write temporary files to /kaggle/temp/, but they won't be saved outside of the current session",
            "metadata": {
                "_cell_guid": "b1076dfc-b9ad-4769-8c92-a6c4dae69d19",
                "_uuid": "8f2839f25d086af736a60e9eeb907d3b93b6e0e5",
                "papermill": {
                    "duration": 1.039346,
                    "end_time": "2025-02-24T22:49:58.644766",
                    "exception": false,
                    "start_time": "2025-02-24T22:49:57.605420",
                    "status": "completed"
                },
                "tags": [],
                "trusted": true
            },
            "outputs": [],
            "execution_count": null
        },
        {
            "id": "49417b48",
            "cell_type": "markdown",
            "source": "# EDA",
            "metadata": {
                "papermill": {
                    "duration": 0.003623,
                    "end_time": "2025-02-24T22:49:58.653000",
                    "exception": false,
                    "start_time": "2025-02-24T22:49:58.649377",
                    "status": "completed"
                },
                "tags": []
            }
        },
        {
            "id": "de27264d",
            "cell_type": "markdown",
            "source": "## Simple starter code",
            "metadata": {
                "papermill": {
                    "duration": 0.003513,
                    "end_time": "2025-02-24T22:49:58.660327",
                    "exception": false,
                    "start_time": "2025-02-24T22:49:58.656814",
                    "status": "completed"
                },
                "tags": []
            }
        },
        {
            "id": "9507606e",
            "cell_type": "code",
            "source": "w_seed = pd.read_csv('/kaggle/input/march-machine-learning-mania-2025/WNCAATourneySeeds.csv')\nm_seed = pd.read_csv('/kaggle/input/march-machine-learning-mania-2025/MNCAATourneySeeds.csv')\nseed_df = pd.concat([m_seed, w_seed], axis=0).fillna(0.05)\nsubmission_df = pd.read_csv('/kaggle/input/march-machine-learning-mania-2025/SampleSubmissionStage2.csv')",
            "metadata": {
                "papermill": {
                    "duration": 0.170795,
                    "end_time": "2025-02-24T22:49:58.834832",
                    "exception": false,
                    "start_time": "2025-02-24T22:49:58.664037",
                    "status": "completed"
                },
                "tags": [],
                "trusted": true
            },
            "outputs": [],
            "execution_count": null
        },
        {
            "id": "780bb316",
            "cell_type": "markdown",
            "source": "Team rankings are present in the files WNCAATourneySeeds.csv and MNCAATourneySeeds.csv.\n\n- The \"Season\" column indicates the year\n- The \"Seed\" column indicates the ranking for a given conference (W01 = ranking 1 in conference W)\n- The \"TeamID\" column contains a unique identifier for every team",
            "metadata": {
                "papermill": {
                    "duration": 0.003659,
                    "end_time": "2025-02-24T22:49:58.843067",
                    "exception": false,
                    "start_time": "2025-02-24T22:49:58.839408",
                    "status": "completed"
                },
                "tags": []
            }
        },
        {
            "id": "40edf9da",
            "cell_type": "code",
            "source": "seed_df.head()",
            "metadata": {
                "papermill": {
                    "duration": 0.031431,
                    "end_time": "2025-02-24T22:49:58.878444",
                    "exception": false,
                    "start_time": "2025-02-24T22:49:58.847013",
                    "status": "completed"
                },
                "tags": [],
                "trusted": true
            },
            "outputs": [],
            "execution_count": null
        },
        {
            "id": "1c12c94a",
            "cell_type": "markdown",
            "source": "The sample_submission.csv file contains an \"ID\" column with the format year_teamID1_teamID2.",
            "metadata": {
                "papermill": {
                    "duration": 0.003721,
                    "end_time": "2025-02-24T22:49:58.887081",
                    "exception": false,
                    "start_time": "2025-02-24T22:49:58.883360",
                    "status": "completed"
                },
                "tags": []
            }
        },
        {
            "id": "b7a285cf",
            "cell_type": "code",
            "source": "submission_df.head()",
            "metadata": {
                "papermill": {
                    "duration": 0.015085,
                    "end_time": "2025-02-24T22:49:58.906107",
                    "exception": false,
                    "start_time": "2025-02-24T22:49:58.891022",
                    "status": "completed"
                },
                "tags": [],
                "trusted": true
            },
            "outputs": [],
            "execution_count": null
        },
        {
            "id": "d983ac83",
            "cell_type": "markdown",
            "source": "## Extract game info and team rankings",
            "metadata": {
                "papermill": {
                    "duration": 0.004022,
                    "end_time": "2025-02-24T22:49:58.914921",
                    "exception": false,
                    "start_time": "2025-02-24T22:49:58.910899",
                    "status": "completed"
                },
                "tags": []
            }
        },
        {
            "id": "8009319b",
            "cell_type": "code",
            "source": "def extract_game_info(id_str):\n    # Extract year and team_ids\n    parts = id_str.split('_')\n    year = int(parts[0])\n    teamID1 = int(parts[1])\n    teamID2 = int(parts[2])\n    return year, teamID1, teamID2\n\ndef extract_seed_value(seed_str):\n    # Extract seed value\n    try:\n        return int(seed_str[1:])\n    # Set seed to 16 for unselected teams and errors\n    except ValueError:\n        return 16\n\n# Reformat the data\nsubmission_df[['Season', 'TeamID1', 'TeamID2']] = submission_df['ID'].apply(extract_game_info).tolist()\nseed_df['SeedValue'] = seed_df['Seed'].apply(extract_seed_value)\n\n# Merge seed information for TeamID1\nsubmission_df = pd.merge(submission_df, seed_df[['Season', 'TeamID', 'SeedValue']],\n                         left_on=['Season', 'TeamID1'], right_on=['Season', 'TeamID'],\n                         how='left')\nsubmission_df = submission_df.rename(columns={'SeedValue': 'SeedValue1'}).drop(columns=['TeamID'])\n\n# Merge seed information for TeamID2\nsubmission_df = pd.merge(submission_df, seed_df[['Season', 'TeamID', 'SeedValue']],\n                         left_on=['Season', 'TeamID2'], right_on=['Season', 'TeamID'],\n                         how='left')\nsubmission_df = submission_df.rename(columns={'SeedValue': 'SeedValue2'}).drop(columns=['TeamID'])\nprint(submission_df)",
            "metadata": {
                "papermill": {
                    "duration": 0.291754,
                    "end_time": "2025-02-24T22:49:59.210864",
                    "exception": false,
                    "start_time": "2025-02-24T22:49:58.919110",
                    "status": "completed"
                },
                "tags": [],
                "trusted": true
            },
            "outputs": [],
            "execution_count": null
        },
        {
            "id": "ba83ab58",
            "cell_type": "markdown",
            "source": "## Make your predictions",
            "metadata": {
                "papermill": {
                    "duration": 0.003876,
                    "end_time": "2025-02-24T22:49:59.219384",
                    "exception": false,
                    "start_time": "2025-02-24T22:49:59.215508",
                    "status": "completed"
                },
                "tags": []
            }
        },
        {
            "id": "d1e87117-4a7f-43b9-beb7-53e022df1bef",
            "cell_type": "markdown",
            "source": "### With Massey Ordinals",
            "metadata": {}
        },
        {
            "id": "d33ad47b",
            "cell_type": "code",
            "source": "# Overall ranking of the team in the underlying system.\nm_massey_ordinals_df = pd.read_csv('/kaggle/input/march-machine-learning-mania-2025/MMasseyOrdinals.csv')",
            "metadata": {
                "papermill": {
                    "duration": 2.296789,
                    "end_time": "2025-02-24T22:50:01.520283",
                    "exception": false,
                    "start_time": "2025-02-24T22:49:59.223494",
                    "status": "completed"
                },
                "tags": [],
                "trusted": true
            },
            "outputs": [],
            "execution_count": null
        },
        {
            "id": "155cf324",
            "cell_type": "code",
            "source": "m_massey_ordinals_df.head()",
            "metadata": {
                "papermill": {
                    "duration": 0.013324,
                    "end_time": "2025-02-24T22:50:01.538480",
                    "exception": false,
                    "start_time": "2025-02-24T22:50:01.525156",
                    "status": "completed"
                },
                "tags": [],
                "trusted": true
            },
            "outputs": [],
            "execution_count": null
        },
        {
            "id": "0d008dfe",
            "cell_type": "code",
            "source": "m_massey_ordinals_2025_df = m_massey_ordinals_df[m_massey_ordinals_df['Season'] == 2025]",
            "metadata": {
                "papermill": {
                    "duration": 0.018724,
                    "end_time": "2025-02-24T22:50:01.562130",
                    "exception": false,
                    "start_time": "2025-02-24T22:50:01.543406",
                    "status": "completed"
                },
                "tags": [],
                "trusted": true
            },
            "outputs": [],
            "execution_count": null
        },
        {
            "id": "aab271a6",
            "cell_type": "code",
            "source": "m_massey_ordinals_2025_df.head()",
            "metadata": {
                "papermill": {
                    "duration": 0.015268,
                    "end_time": "2025-02-24T22:50:01.582467",
                    "exception": false,
                    "start_time": "2025-02-24T22:50:01.567199",
                    "status": "completed"
                },
                "tags": [],
                "trusted": true
            },
            "outputs": [],
            "execution_count": null
        },
        {
            "id": "877241d5",
            "cell_type": "code",
            "source": "m_mo_ave_df = pd.DataFrame(m_massey_ordinals_2025_df.groupby(\"TeamID\")[\"OrdinalRank\"].mean())",
            "metadata": {
                "papermill": {
                    "duration": 0.018354,
                    "end_time": "2025-02-24T22:50:01.606095",
                    "exception": false,
                    "start_time": "2025-02-24T22:50:01.587741",
                    "status": "completed"
                },
                "tags": [],
                "trusted": true
            },
            "outputs": [],
            "execution_count": null
        },
        {
            "id": "eeb172c9",
            "cell_type": "code",
            "source": "m_mo_ave_df.head()",
            "metadata": {
                "papermill": {
                    "duration": 0.014473,
                    "end_time": "2025-02-24T22:50:01.625637",
                    "exception": false,
                    "start_time": "2025-02-24T22:50:01.611164",
                    "status": "completed"
                },
                "tags": [],
                "trusted": true
            },
            "outputs": [],
            "execution_count": null
        },
        {
            "id": "4c179dd1",
            "cell_type": "markdown",
            "source": "Method 1: Bradley Terry Model\n\nPredicts the winning percentage based on the difference in team standings using a logistic function\n* Statistically well-founded model\n* Need to adjust parameter c (to fit the data set)\n* Often used in sports forecasting",
            "metadata": {
                "papermill": {
                    "duration": 0.004066,
                    "end_time": "2025-02-24T22:50:01.634784",
                    "exception": false,
                    "start_time": "2025-02-24T22:50:01.630718",
                    "status": "completed"
                },
                "tags": []
            }
        },
        {
            "id": "a405474e",
            "cell_type": "code",
            "source": "from scipy.special import expit\n\ndef bradley_terry_probability(team_a: int, team_b: int, ranks: pd.DataFrame, c=0.01) -> np.float64:\n    rank_diff = ranks.loc[team_b] - ranks.loc[team_a]\n    prob = expit(c * rank_diff) # Convert to probability with logistic function\n\n    return prob[\"OrdinalRank\"]",
            "metadata": {
                "papermill": {
                    "duration": 0.433273,
                    "end_time": "2025-02-24T22:50:02.072385",
                    "exception": false,
                    "start_time": "2025-02-24T22:50:01.639112",
                    "status": "completed"
                },
                "tags": [],
                "trusted": true
            },
            "outputs": [],
            "execution_count": null
        },
        {
            "id": "f07fc99e",
            "cell_type": "markdown",
            "source": "Method2: ELO Rating\n\nApplying the ELO rating system, we predict the winning percentage based on the difference in rankings\n* Proven in many competitions, including chess\n* Scale parameters need to be adjusted\n* Can be adjusted more accurately with past competition results",
            "metadata": {
                "papermill": {
                    "duration": 0.004467,
                    "end_time": "2025-02-24T22:50:02.082141",
                    "exception": false,
                    "start_time": "2025-02-24T22:50:02.077674",
                    "status": "completed"
                },
                "tags": []
            }
        },
        {
            "id": "d373e823",
            "cell_type": "code",
            "source": "def elo_win_probability(team_a: int, team_b: int, ranks: pd.DataFrame, scale=400):\n    max_rank = ranks.max()\n    # Reverse OrdinalRank and treat it like an ELO rating (smaller is stronger)\n    elo_like_ratings = max_rank - ranks\n\n    rating_diff = elo_like_ratings.loc[team_a] - elo_like_ratings.loc[team_b]\n    prob = 1.0 / (1.0 + 10 ** (-rating_diff / scale))\n\n    return prob[\"OrdinalRank\"]",
            "metadata": {
                "papermill": {
                    "duration": 0.011693,
                    "end_time": "2025-02-24T22:50:02.098637",
                    "exception": false,
                    "start_time": "2025-02-24T22:50:02.086944",
                    "status": "completed"
                },
                "tags": [],
                "trusted": true
            },
            "outputs": [],
            "execution_count": null
        },
        {
            "id": "ccd41c66",
            "cell_type": "markdown",
            "source": "Method 3: Normalized Rank\n\nA method that normalizes a team's ranking to the range [0,1] and interprets it directly as a probability\n* Simple and easy to implement\n* Intuitive reflection of relative strength among teams",
            "metadata": {
                "papermill": {
                    "duration": 0.004289,
                    "end_time": "2025-02-24T22:50:02.107954",
                    "exception": false,
                    "start_time": "2025-02-24T22:50:02.103665",
                    "status": "completed"
                },
                "tags": []
            }
        },
        {
            "id": "5d3fe74a",
            "cell_type": "code",
            "source": "def normalized_rank_probability(team_a, team_b, ranks):\n    # Normalized by inverting the ranks (because smaller is stronger)\n    reversed_ranks = ranks.max() - ranks\n    normalized = (reversed_ranks - reversed_ranks.min()) / (reversed_ranks.max() - reversed_ranks.min())\n\n    # Calculate win rate from ratio of normalized values\n    p_a = normalized.loc[team_a]\n    p_b = normalized.loc[team_b]\n    win_prob = p_a / (p_a + p_b)\n\n    return win_prob[\"OrdinalRank\"]",
            "metadata": {
                "papermill": {
                    "duration": 0.010918,
                    "end_time": "2025-02-24T22:50:02.123531",
                    "exception": false,
                    "start_time": "2025-02-24T22:50:02.112613",
                    "status": "completed"
                },
                "tags": [],
                "trusted": true
            },
            "outputs": [],
            "execution_count": null
        },
        {
            "id": "69d89a61",
            "cell_type": "code",
            "source": "for target_team in m_mo_ave_df.index:\n    for opposing_team in m_mo_ave_df.index:\n        match_id = f\"2025_{target_team}_{opposing_team}\"\n        pred = bradley_terry_probability(target_team, opposing_team, m_mo_ave_df)\n        # pred = elo_win_probability(target_team, opposing_team, m_mo_ave_df)\n        # pred = normalized_rank_probability(target_team, opposing_team, m_mo_ave_df)\n\n        submission_df.loc[submission_df[\"ID\"] == match_id, \"Pred\"] = pred",
            "metadata": {
                "papermill": {
                    "duration": 1049.795222,
                    "end_time": "2025-02-24T23:07:31.923919",
                    "exception": false,
                    "start_time": "2025-02-24T22:50:02.128697",
                    "status": "completed"
                },
                "tags": [],
                "trusted": true
            },
            "outputs": [],
            "execution_count": null
        },
        {
            "id": "f06863be",
            "cell_type": "code",
            "source": "submission_df",
            "metadata": {
                "papermill": {
                    "duration": 0.019743,
                    "end_time": "2025-02-24T23:07:31.949502",
                    "exception": false,
                    "start_time": "2025-02-24T23:07:31.929759",
                    "status": "completed"
                },
                "tags": [],
                "trusted": true
            },
            "outputs": [],
            "execution_count": null
        },
        {
            "id": "9354c8d7",
            "cell_type": "code",
            "source": "stats = submission_df.iloc[:, 1].describe()\nprint(stats)",
            "metadata": {
                "papermill": {
                    "duration": 0.031388,
                    "end_time": "2025-02-24T23:07:31.987247",
                    "exception": false,
                    "start_time": "2025-02-24T23:07:31.955859",
                    "status": "completed"
                },
                "tags": [],
                "trusted": true
            },
            "outputs": [],
            "execution_count": null
        },
        {
            "id": "eda2e2c4-0eba-4a28-806f-bec45b1fd430",
            "cell_type": "markdown",
            "source": "### With XGBoost",
            "metadata": {}
        },
        {
            "id": "63cf7447-2000-4d06-8cb2-651f3bea67e2",
            "cell_type": "code",
            "source": "# Read Data\n\nmen_tournament = pd.read_csv(\"/kaggle/input/march-machine-learning-mania-2025/MNCAATourneyDetailedResults.csv\")\nmen_seeds = pd.read_csv(\"/kaggle/input/march-machine-learning-mania-2025/MNCAATourneySeeds.csv\")\nmen_regular = pd.read_csv(\"/kaggle/input/march-machine-learning-mania-2025/MRegularSeasonDetailedResults.csv\")\n\nwomen_tournament = pd.read_csv(\"/kaggle/input/march-machine-learning-mania-2025/WNCAATourneyDetailedResults.csv\")\nwomen_seeds = pd.read_csv(\"/kaggle/input/march-machine-learning-mania-2025/WNCAATourneySeeds.csv\")\nwomen_regular = pd.read_csv(\"/kaggle/input/march-machine-learning-mania-2025/WRegularSeasonDetailedResults.csv\")",
            "metadata": {
                "trusted": true
            },
            "outputs": [],
            "execution_count": null
        },
        {
            "id": "76ee9cd2-729a-4854-b066-3c961047b84a",
            "cell_type": "code",
            "source": "men_tournament.head()",
            "metadata": {
                "trusted": true
            },
            "outputs": [],
            "execution_count": null
        },
        {
            "id": "3b7ecc2b-14ac-4c7f-94a3-743661130871",
            "cell_type": "code",
            "source": "men_seeds.head()",
            "metadata": {
                "trusted": true
            },
            "outputs": [],
            "execution_count": null
        },
        {
            "id": "4c425243-c149-4c92-b9ef-85aa4fb178b8",
            "cell_type": "code",
            "source": "men_regular.head()",
            "metadata": {
                "trusted": true
            },
            "outputs": [],
            "execution_count": null
        },
        {
            "id": "89beeb7d-a5d0-419f-9286-b9a0d2d10fbf",
            "cell_type": "code",
            "source": "men_tournament.drop(['NumOT', 'WLoc'], axis=1, inplace=True)\nwomen_tournament.drop(['NumOT', 'WLoc'], axis=1, inplace=True)",
            "metadata": {
                "trusted": true
            },
            "outputs": [],
            "execution_count": null
        },
        {
            "id": "a4e16a81-a91d-4db4-812f-88ec93f2e67a",
            "cell_type": "code",
            "source": "#\"Set\" denotes whether the data is from the regular season or tournament (1 = tournament, 0 = regular season)\n\nmen_tournament[\"set\"] = 1\nmen_regular[\"set\"] = 0\nwomen_tournament[\"set\"] = 1\nwomen_regular[\"set\"] = 0",
            "metadata": {
                "trusted": true
            },
            "outputs": [],
            "execution_count": null
        },
        {
            "id": "f1c3321f-260f-4cd6-8f74-c2193d7e9342",
            "cell_type": "code",
            "source": "men_seeds[\"Seed\"] = men_seeds[\"Seed\"].apply(lambda x: int(x[1:3]))\nwomen_seeds[\"Seed\"] = women_seeds[\"Seed\"].apply(lambda x: int(x[1:3]))",
            "metadata": {
                "trusted": true
            },
            "outputs": [],
            "execution_count": null
        },
        {
            "id": "1d3932a9-8127-4dc2-b6ab-c59cf10fbe5c",
            "cell_type": "code",
            "source": "men_seeds.head()",
            "metadata": {
                "trusted": true
            },
            "outputs": [],
            "execution_count": null
        },
        {
            "id": "638b00ea-3684-4c77-8dc9-f09159d19cb4",
            "cell_type": "code",
            "source": "#Combine regular season data and tournament data into one dataframe \n#Add feature for gender to try to quantify some differences in efficiency, playstyle, etc... (1 = men, 0 = women)\n\nmen_box = pd.concat([men_tournament, men_regular], ignore_index=True)\nwomen_box = pd.concat([women_tournament , women_regular], ignore_index=True)",
            "metadata": {
                "trusted": true
            },
            "outputs": [],
            "execution_count": null
        },
        {
            "id": "73f1862a-d1e4-4edc-bb4d-9b1c12d2a1b3",
            "cell_type": "code",
            "source": "men_box[\"gender\"] = 1\nwomen_box[\"gender\"] = 0",
            "metadata": {
                "trusted": true
            },
            "outputs": [],
            "execution_count": null
        },
        {
            "id": "3efad2e7-8e00-4178-b337-70b261033560",
            "cell_type": "code",
            "source": "men_women_box = pd.concat([men_box, women_box], ignore_index=True)\nmen_women_seeds = pd.concat([men_seeds, women_seeds], ignore_index=True)",
            "metadata": {
                "trusted": true
            },
            "outputs": [],
            "execution_count": null
        },
        {
            "id": "9b8a92a2-d94e-427e-8379-b973cd4d53e7",
            "cell_type": "code",
            "source": "# Rename the features for the winning team as \"TeamA\" and \"TeamB\" for the losing team... also flip the labels to create double the data\n# (each game can be seen from two perspectives... the winner and the loser)\n\nw_df = men_women_box.loc[:, [\n    'Season', 'DayNum', 'WTeamID', 'WScore', 'LTeamID', 'LScore', 'WFGM',\n    'WFGA', 'WFGM3', 'WFGA3', 'WFTM', 'WFTA', 'WOR', 'WDR', 'WAst', 'WTO',\n    'WStl', 'WBlk', 'WPF', 'LFGM', 'LFGA', 'LFGM3', 'LFGA3', 'LFTM', 'LFTA',\n    'LOR', 'LDR', 'LAst', 'LTO', 'LStl', 'LBlk', 'LPF', 'set', 'gender'\n]] # Exclude ['NumOT', 'WLoc'] from men_women_box",
            "metadata": {
                "trusted": true
            },
            "outputs": [],
            "execution_count": null
        },
        {
            "id": "80744322-0fc3-4054-b391-667b0dd38c7d",
            "cell_type": "code",
            "source": "w_df.columns = [\n    'Season', 'DayNum', 'ATeamID', 'AScore', 'BTeamID', 'BScore', 'AFGM',\n    'AFGA', 'AFGM3', 'AFGA3', 'AFTM', 'AFTA', 'AOR', 'ADR', 'AAst', 'ATO',\n    'AStl', 'ABlk', 'APF', 'BFGM', 'BFGA', 'BFGM3', 'BFGA3', 'BFTM', 'BFTA',\n    'BOR', 'BDR', 'BAst', 'BTO', 'BStl', 'BBlk', 'BPF',  'Set', 'Gender'\n] # W -> A, L -> B",
            "metadata": {
                "trusted": true
            },
            "outputs": [],
            "execution_count": null
        },
        {
            "id": "eaa38eb4-91f4-43f9-9d43-48c6cdf3e714",
            "cell_type": "code",
            "source": "l_df = men_women_box.loc[:, [\n    'Season', 'DayNum', 'LTeamID', 'LScore', 'WTeamID', 'WScore', 'LFGM',\n    'LFGA', 'LFGM3', 'LFGA3', 'LFTM', 'LFTA', 'LOR', 'LDR', 'LAst', 'LTO',\n    'LStl', 'LBlk', 'LPF', 'WFGM', 'WFGA', 'WFGM3', 'WFGA3', 'WFTM', 'WFTA',\n    'WOR', 'WDR', 'WAst', 'WTO', 'WStl', 'WBlk', 'WPF', 'set', 'gender'\n]]",
            "metadata": {
                "trusted": true
            },
            "outputs": [],
            "execution_count": null
        },
        {
            "id": "1fd94849-eb4b-4369-93b7-bd475dbfa71f",
            "cell_type": "code",
            "source": "l_df.columns = [\n    'Season', 'DayNum', 'ATeamID', 'AScore', 'BTeamID', 'BScore', 'AFGM',\n    'AFGA', 'AFGM3', 'AFGA3', 'AFTM', 'AFTA', 'AOR', 'ADR', 'AAst', 'ATO',\n    'AStl', 'ABlk', 'APF', 'BFGM', 'BFGA', 'BFGM3', 'BFGA3', 'BFTM', 'BFTA',\n    'BOR', 'BDR', 'BAst', 'BTO', 'BStl', 'BBlk', 'BPF', 'Set', 'Gender'\n]",
            "metadata": {
                "trusted": true
            },
            "outputs": [],
            "execution_count": null
        },
        {
            "id": "06cf4a5f-9c6b-47ec-be43-79737625dbe7",
            "cell_type": "code",
            "source": "# Concat new dataframes/columns\n# Create a column to denote the outcome of a game for both TeamA and TeamB\n\nall_box = pd.concat([w_df, l_df], axis=0)",
            "metadata": {
                "trusted": true
            },
            "outputs": [],
            "execution_count": null
        },
        {
            "id": "e658bfbc-504d-474e-8784-d9ab39f41ba4",
            "cell_type": "code",
            "source": "all_box['AWin']  = (all_box['AScore'] > all_box['BScore']).astype(int)\nall_box['ALoss'] = (all_box['AScore'] < all_box['BScore']).astype(int)\nall_box['BWin']  = (all_box['AScore'] < all_box['BScore']).astype(int)\nall_box['BLoss'] = (all_box['AScore'] > all_box['BScore']).astype(int)",
            "metadata": {
                "trusted": true
            },
            "outputs": [],
            "execution_count": null
        },
        {
            "id": "58438846-f081-4787-9149-e66e1fcfec6f",
            "cell_type": "code",
            "source": "all_box.head()",
            "metadata": {
                "trusted": true
            },
            "outputs": [],
            "execution_count": null
        },
        {
            "id": "f72a6e26-a829-4356-8348-c866fa467225",
            "cell_type": "code",
            "source": "# The start of creating features for both TeamA and TeamB\n# Group by Season and the teamID to calculate the total for a specified column\n\n# A Features\nall_box['AWins']     = all_box.groupby(['Season', 'ATeamID'])['AWin'].transform('sum')\nall_box['ALosses']   = all_box.groupby(['Season', 'ATeamID'])['ALoss'].transform('sum')\nall_box['AGames']    = all_box[\"AWins\"] + all_box[\"ALosses\"]\nall_box['ATotalPts'] = all_box.groupby(['Season', 'ATeamID'])['AScore'].transform('sum')\nall_box[\"ATotalFGM\"] = all_box.groupby(['Season', 'ATeamID'])['AFGM'].transform('sum')\nall_box[\"ATotalFGA\"] = all_box.groupby(['Season', 'ATeamID'])['AFGA'].transform('sum')\nall_box[\"ATotal3PM\"] = all_box.groupby(['Season', 'ATeamID'])['AFGM3'].transform('sum')\nall_box[\"ATotal3PA\"] = all_box.groupby(['Season', 'ATeamID'])['AFGA3'].transform('sum')\nall_box[\"ATotalFTM\"] = all_box.groupby(['Season', 'ATeamID'])['AFTM'].transform('sum')\nall_box[\"ATotalFTA\"] = all_box.groupby(['Season', 'ATeamID'])['AFTA'].transform('sum')\nall_box[\"ATotalOR\"]  = all_box.groupby(['Season', 'ATeamID'])['AOR'].transform('sum')\nall_box[\"ATotalDR\"]  = all_box.groupby(['Season', 'ATeamID'])['ADR'].transform('sum')\nall_box[\"ATotalAst\"] = all_box.groupby(['Season', 'ATeamID'])['AAst'].transform('sum')\nall_box[\"ATotalTO\"]  = all_box.groupby(['Season', 'ATeamID'])['ATO'].transform('sum')\nall_box[\"ATotalStl\"] = all_box.groupby(['Season', 'ATeamID'])['AStl'].transform('sum')\nall_box[\"ATotalBlk\"] = all_box.groupby(['Season', 'ATeamID'])['ABlk'].transform('sum')\nall_box[\"ATotalPf\"]  = all_box.groupby(['Season', 'ATeamID'])['APF'].transform('sum')\n\n# B Features\nall_box['BWins']     = all_box.groupby(['Season', 'BTeamID'])['BWin'].transform('sum')\nall_box['BLosses']   = all_box.groupby(['Season', 'BTeamID'])['BLoss'].transform('sum')\nall_box['BGames']    = all_box[\"BWins\"] + all_box[\"BLosses\"]\nall_box['BTotalPts'] = all_box.groupby(['Season', 'BTeamID'])['BScore'].transform('sum')\nall_box[\"BTotalFGM\"] = all_box.groupby(['Season', 'BTeamID'])['BFGM'].transform('sum')\nall_box[\"BTotalFGA\"] = all_box.groupby(['Season', 'BTeamID'])['BFGA'].transform('sum')\nall_box[\"BTotal3PM\"] = all_box.groupby(['Season', 'BTeamID'])['BFGM3'].transform('sum')\nall_box[\"BTotal3PA\"] = all_box.groupby(['Season', 'BTeamID'])['BFGA3'].transform('sum')\nall_box[\"BTotalFTM\"] = all_box.groupby(['Season', 'BTeamID'])['BFTM'].transform('sum')\nall_box[\"BTotalFTA\"] = all_box.groupby(['Season', 'BTeamID'])['BFTA'].transform('sum')\nall_box[\"BTotalOR\"]  = all_box.groupby(['Season', 'BTeamID'])['BOR'].transform('sum')\nall_box[\"BTotalDR\"]  = all_box.groupby(['Season', 'BTeamID'])['BDR'].transform('sum')\nall_box[\"BTotalAst\"] = all_box.groupby(['Season', 'BTeamID'])['BAst'].transform('sum')\nall_box[\"BTotalTO\"]  = all_box.groupby(['Season', 'BTeamID'])['BTO'].transform('sum')\nall_box[\"BTotalStl\"] = all_box.groupby(['Season', 'BTeamID'])['BStl'].transform('sum')\nall_box[\"BTotalBlk\"] = all_box.groupby(['Season', 'BTeamID'])['BBlk'].transform('sum')\nall_box[\"BTotalPf\"]  = all_box.groupby(['Season', 'BTeamID'])['BPF'].transform('sum')",
            "metadata": {
                "trusted": true
            },
            "outputs": [],
            "execution_count": null
        },
        {
            "id": "0b5a9a95-5395-4157-9749-5ef00ba98246",
            "cell_type": "code",
            "source": "all_box.head()",
            "metadata": {
                "trusted": true
            },
            "outputs": [],
            "execution_count": null
        },
        {
            "id": "521d1600-87fd-4073-ae4b-fed7d121fb5d",
            "cell_type": "code",
            "source": "# More total features\n# Group by Season and the teamID to calculate the total for a specified column\n# These columns are for the opponent of a specified team... can be used to identify how well a team did against an opponent relative to their average performance\n\nall_box['AOppWins']   = all_box.groupby(['Season', 'BTeamID'])['BWin'].transform('sum')\nall_box['AOppLosses'] = all_box.groupby(['Season', 'BTeamID'])['BLoss'].transform('sum')\nall_box['BOppWins']   = all_box.groupby(['Season', 'BTeamID'])['AWin'].transform('sum')\nall_box['BOppLosses'] = all_box.groupby(['Season', 'BTeamID'])['ALoss'].transform('sum')\nall_box['AOppGames']  = all_box[\"BOppWins\"] + all_box[\"BOppLosses\"]\nall_box['BOppGames']  = all_box[\"BOppWins\"] + all_box[\"BOppLosses\"]\n\n# A Opponent features\nall_box['AOppPts'] = all_box.groupby(['Season', 'ATeamID'])['BScore'].transform('sum')\nall_box[\"AOppFGM\"] = all_box.groupby(['Season', 'ATeamID'])['BFGM'].transform('sum')\nall_box[\"AOppFGA\"] = all_box.groupby(['Season', 'ATeamID'])['BFGA'].transform('sum')\nall_box[\"AOpp3PM\"] = all_box.groupby(['Season', 'ATeamID'])['BFGM3'].transform('sum')\nall_box[\"AOpp3PA\"] = all_box.groupby(['Season', 'ATeamID'])['BFGA3'].transform('sum')\nall_box[\"AOppFTM\"] = all_box.groupby(['Season', 'ATeamID'])['BFTM'].transform('sum')\nall_box[\"AOppFTA\"] = all_box.groupby(['Season', 'ATeamID'])['BFTA'].transform('sum')\nall_box[\"AOppOR\"]  = all_box.groupby(['Season', 'ATeamID'])['BOR'].transform('sum')\nall_box[\"AOppDR\"]  = all_box.groupby(['Season', 'ATeamID'])['BDR'].transform('sum')\nall_box[\"AOppAst\"] = all_box.groupby(['Season', 'ATeamID'])['BAst'].transform('sum')\nall_box[\"AOppTO\"]  = all_box.groupby(['Season', 'ATeamID'])['BTO'].transform('sum')\nall_box[\"AOppStl\"] = all_box.groupby(['Season', 'ATeamID'])['BStl'].transform('sum')\nall_box[\"AOppBlk\"] = all_box.groupby(['Season', 'ATeamID'])['BBlk'].transform('sum')\nall_box[\"AOppPf\"]  = all_box.groupby(['Season', 'ATeamID'])['BPF'].transform('sum')\n\n# B Opponent features\nall_box['BOppPts'] = all_box.groupby(['Season', 'BTeamID'])['AScore'].transform('sum')\nall_box[\"BOppFGM\"] = all_box.groupby(['Season', 'BTeamID'])['AFGM'].transform('sum')\nall_box[\"BOppFGA\"] = all_box.groupby(['Season', 'BTeamID'])['AFGA'].transform('sum')\nall_box[\"BOpp3PM\"] = all_box.groupby(['Season', 'BTeamID'])['AFGM3'].transform('sum')\nall_box[\"BOpp3PA\"] = all_box.groupby(['Season', 'BTeamID'])['AFGA3'].transform('sum')\nall_box[\"BOppFTM\"] = all_box.groupby(['Season', 'BTeamID'])['AFTM'].transform('sum')\nall_box[\"BOppFTA\"] = all_box.groupby(['Season', 'BTeamID'])['AFTA'].transform('sum')\nall_box[\"BOppOR\"]  = all_box.groupby(['Season', 'BTeamID'])['AOR'].transform('sum')\nall_box[\"BOppDR\"]  = all_box.groupby(['Season', 'BTeamID'])['ADR'].transform('sum')\nall_box[\"BOppAst\"] = all_box.groupby(['Season', 'BTeamID'])['AAst'].transform('sum')\nall_box[\"BOppTO\"]  = all_box.groupby(['Season', 'BTeamID'])['ATO'].transform('sum')\nall_box[\"BOppStl\"] = all_box.groupby(['Season', 'BTeamID'])['AStl'].transform('sum')\nall_box[\"BOppBlk\"] = all_box.groupby(['Season', 'BTeamID'])['ABlk'].transform('sum')\nall_box[\"BOppPf\"]  = all_box.groupby(['Season', 'BTeamID'])['APF'].transform('sum')",
            "metadata": {
                "trusted": true
            },
            "outputs": [],
            "execution_count": null
        },
        {
            "id": "2fbf7fb4-dfd8-488e-acb2-9c72f4f3211a",
            "cell_type": "code",
            "source": "all_box.head()",
            "metadata": {
                "trusted": true
            },
            "outputs": [],
            "execution_count": null
        },
        {
            "id": "6e72c885-5514-489e-b145-417fa7e8a2fe",
            "cell_type": "code",
            "source": "# Formula to give a rough estimate for the number of possessions a team has...\nall_box[\"ATotalPoss\"] = all_box[\"ATotalFGA\"] + 0.44 * all_box[\"ATotalFTA\"] - all_box[\"ATotalOR\"] + all_box[\"ATotalTO\"]\nall_box[\"BTotalPoss\"] = all_box[\"BTotalFGA\"] + 0.44 * all_box[\"BTotalFTA\"] - all_box[\"BTotalOR\"] + all_box[\"BTotalTO\"]\nall_box[\"AOppPoss\"]   = all_box[\"AOppFGA\"]   + 0.44 * all_box[\"AOppFTA\"]   - all_box[\"AOppOR\"]   + all_box[\"AOppTO\"]\nall_box[\"BOppPoss\"]   = all_box[\"BOppFGA\"]   + 0.44 * all_box[\"BOppFTA\"]   - all_box[\"BOppOR\"]   + all_box[\"BOppTO\"]",
            "metadata": {
                "trusted": true
            },
            "outputs": [],
            "execution_count": null
        },
        {
            "id": "7ce24818-cdb0-4063-ac57-e12fb470001f",
            "cell_type": "code",
            "source": "all_box.head()",
            "metadata": {
                "trusted": true
            },
            "outputs": [],
            "execution_count": null
        },
        {
            "id": "037892d8-3be9-4069-9bea-b7f580ec5447",
            "cell_type": "code",
            "source": "# Main dataframe to engineer features\n# Included some advanced statistics for each team as well as each teams' opponents\n\ndf = pd.DataFrame()\ndf[\"Season\"] = all_box[\"Season\"]\ndf[\"Gender\"] = all_box[\"Gender\"]\n\ndf[\"TeamA\"] = all_box[\"ATeamID\"]\ndf[\"TeamB\"] = all_box[\"BTeamID\"]\n\ndf[\"AWRatio\"] = all_box[\"AWins\"] / all_box[\"AGames\"]\ndf[\"BWRatio\"] = all_box[\"BWins\"] / all_box[\"BGames\"]\n\ndf[\"AEFG\"] = (all_box[\"ATotalFGM\"] + 0.5 * all_box[\"ATotal3PM\"]) / all_box[\"ATotalFGA\"]\ndf[\"BEFG\"] = (all_box[\"BTotalFGM\"] + 0.5 * all_box[\"BTotal3PM\"]) / all_box[\"BTotalFGA\"]\n\ndf[\"AOppEFG\"] = (all_box[\"AOppFGM\"] + 0.5 * all_box[\"AOpp3PM\"]) / all_box[\"AOppFGA\"]\ndf[\"BOppEFG\"] = (all_box[\"BOppFGM\"] + 0.5 * all_box[\"BOpp3PM\"]) / all_box[\"BOppFGA\"]\n\ndf[\"APPP\"] = all_box[\"ATotalPts\"] / all_box[\"ATotalPoss\"]\ndf[\"BPPP\"] = all_box[\"BTotalPts\"] / all_box[\"BTotalPoss\"]\n\ndf[\"AOppPPP\"] = all_box[\"AOppPts\"] / all_box[\"AOppPoss\"]\ndf[\"BOppPPP\"] = all_box[\"BOppPts\"] / all_box[\"BOppPoss\"]\n\ndf[\"ATS\"] = all_box[\"ATotalPts\"] / (2 * (all_box[\"ATotalFGA\"] + 0.475 * all_box[\"ATotalFTA\"]))\ndf[\"BTS\"] = all_box[\"BTotalPts\"] / (2 * (all_box[\"BTotalFGA\"] + 0.475 * all_box[\"BTotalFTA\"]))\n\ndf[\"AOppTS\"] = all_box[\"AOppPts\"] / (2 * (all_box[\"AOppFGA\"] + 0.475 * all_box[\"AOppFTA\"]))\ndf[\"BOppTS\"] = all_box[\"BOppPts\"] / (2 * (all_box[\"BOppFGA\"] + 0.475 * all_box[\"BOppFTA\"]))\n\ndf[\"AORTG\"] = 100 * all_box[\"ATotalPts\"] / all_box[\"ATotalPoss\"]\ndf[\"BORTG\"] = 100 * all_box[\"BTotalPts\"] / all_box[\"BTotalPoss\"]\n\ndf[\"ADRTG\"] = 100 * all_box[\"AOppPts\"] / all_box[\"AOppPoss\"]\ndf[\"BDRTG\"] = 100 * all_box[\"BOppPts\"] / all_box[\"BOppPoss\"]\n\ndf[\"ATOVPct\"] = all_box[\"ATotalTO\"] / (all_box[\"ATotalFGA\"] + 0.475 * all_box[\"ATotalFTA\"] + all_box[\"ATotalTO\"])\ndf[\"BTOVPct\"] = all_box[\"BTotalTO\"] / (all_box[\"BTotalFGA\"] + 0.475 * all_box[\"BTotalFTA\"] + all_box[\"BTotalTO\"])\n\ndf[\"AOppTOV\"] = all_box[\"AOppTO\"] / (all_box[\"AOppFGA\"] + 0.475 * all_box[\"AOppFTA\"] + all_box[\"AOppTO\"])\ndf[\"BOppTOV\"] = all_box[\"BOppTO\"] / (all_box[\"BOppFGA\"] + 0.475 * all_box[\"BOppFTA\"] + all_box[\"BOppTO\"])\n\ndf[\"AORPct\"] = all_box[\"ATotalOR\"] / (all_box[\"ATotalOR\"] + all_box[\"AOppDR\"])\ndf[\"BORPct\"] = all_box[\"BTotalOR\"] / (all_box[\"BTotalOR\"] + all_box[\"BOppDR\"])\n\ndf[\"ADRPct\"] = all_box[\"ATotalDR\"] / (all_box[\"ATotalDR\"] + all_box[\"AOppOR\"])\ndf[\"BDRPct\"] = all_box[\"BTotalDR\"] / (all_box[\"BTotalDR\"] + all_box[\"BOppOR\"])\n\ndf[\"AFTR\"] = all_box[\"ATotalFTA\"] / all_box[\"ATotalFGA\"]\ndf[\"BFTR\"] = all_box[\"BTotalFTA\"] / all_box[\"BTotalFGA\"]\n\ndf[\"AOppFTR\"] = all_box[\"AOppFTA\"] / all_box[\"AOppFGA\"]\ndf[\"BOppFTR\"] = all_box[\"BOppFTA\"] / all_box[\"BOppFGA\"]\n\ndf[\"4fODiff\"] = (0.4 * (df[\"AEFG\"] - df[\"BEFG\"])) - (0.25 * (df[\"ATOVPct\"] - df[\"BTOVPct\"])) + (0.2 * (df[\"AORPct\"] - df[\"BORPct\"])) + (0.15 * (df[\"AFTR\"] - df[\"BFTR\"]))\ndf[\"4fDDiff\"] = -(0.4 * (df[\"AOppEFG\"] - df[\"BOppEFG\"])) + (0.25 * (df[\"AOppTOV\"] - df[\"BOppTOV\"])) + (0.2 * (df[\"ADRPct\"] - df[\"BDRPct\"])) - (0.15 * (df[\"AOppFTR\"] - df[\"BOppFTR\"]))\n\ndf[\"4F\"] = df[\"4fODiff\"] - df[\"4fDDiff\"]\ndf.drop([\"4fODiff\", \"4fDDiff\"], axis=1, inplace=True)\n\ndf[\"AWin\"] = all_box['AWin']\ndf[\"Set\"] = all_box[\"Set\"]",
            "metadata": {
                "trusted": true
            },
            "outputs": [],
            "execution_count": null
        },
        {
            "id": "4c0feba7-e538-443f-b76b-54af16c23411",
            "cell_type": "code",
            "source": "# Merge the seeds dataframe with the main features dataframe\n\ndf = pd.merge(df, men_women_seeds, how='left', left_on=['Season', 'TeamA'], right_on=['Season', 'TeamID']).drop('TeamID', axis=1).rename(columns={'Seed': 'SeedA'})\ndf = pd.merge(df, men_women_seeds, how='left', left_on=['Season', 'TeamB'], right_on=['Season', 'TeamID']).drop('TeamID', axis=1).rename(columns={'Seed': 'SeedB'})\ndf.loc[:, [\"SeedA\", \"SeedB\"]] = df[[\"SeedA\", \"SeedB\"]].fillna(0)",
            "metadata": {
                "trusted": true
            },
            "outputs": [],
            "execution_count": null
        },
        {
            "id": "a622750e-d4eb-4896-9226-f0800ee3dcce",
            "cell_type": "code",
            "source": "df.head()",
            "metadata": {
                "trusted": true
            },
            "outputs": [],
            "execution_count": null
        },
        {
            "id": "fba022f3-d1fe-44fb-81f8-39b635277ef0",
            "cell_type": "code",
            "source": "# Some plotting to visualize a feature from the data and how that feature has changed over the seasons... can specify the feature and the gender\n\ncolumn_name = \"AEFG\"\nn_seasons = len(df[df[\"Gender\"] == 1][\"Season\"].unique())\nn_rows = (n_seasons + 4) // 5\npalette = sns.color_palette(\"husl\", n_seasons)\nseason_color = {val: palette[i] for i, val in enumerate(df[df[\"Gender\"] == 1][\"Season\"].unique())}\n\nfig, axes = plt.subplots(nrows=n_rows, ncols=5, figsize=(18, 3 * n_rows))\n\nfor i, (season, data) in enumerate(df[df[\"Gender\"] == 1].groupby(\"Season\")):\n    row = i // 5\n    col = i % 5\n    sns.kdeplot(data=data, x=column_name, fill=True, alpha=0.3, linewidth=2, color=season_color[season], ax=axes[row, col])\n    axes[row, col].axvline(data[column_name].median(), color=\"red\", linewidth=2)\n    axes[row, col].set_title(f\"Season {season}\")\n    \n    # add scatter plot of median\n    ax_median = plt.subplot(n_rows, 5, n_seasons + 1)\n    ax_median.scatter(season, data[column_name].median(), color=season_color[season], s=100)\n    ax_median.set_xlabel(\"Season\")\n    ax_median.set_ylabel(\"Median\")\n    ax_median.set_xticks(df[df[\"Gender\"] == 1][\"Season\"].unique())\n    ax_median.set_xticklabels(df[df[\"Gender\"] == 1][\"Season\"].unique(), rotation=45)\n    ax_median.set_title(\"Median by Season (Gender 1)\")\n    \n    # add trendline to median scatter plot\n    x = np.array(df[df[\"Gender\"] == 1][\"Season\"].unique())\n    y = np.array([data[column_name].median() for season, data in df[df[\"Gender\"] == 1].groupby(\"Season\")])\n    p = np.polyfit(x, y, deg=2)\n    f = np.poly1d(p)\n    x_new = np.linspace(x[0], x[-1], 100)\n    ax_median.plot(x_new, f(x_new), color=\"black\", linewidth=2)\n    \nfig.tight_layout()\nplt.show()",
            "metadata": {
                "trusted": true,
                "execution": {
                    "execution_failed": "2025-03-02T00:21:52.301Z"
                }
            },
            "outputs": [],
            "execution_count": null
        },
        {
            "id": "16b85530-2bdc-4f07-a4cf-bd4f751dbc20",
            "cell_type": "code",
            "source": "#Create training and test dataset from the dataframe\n\ntrain = df\n\ntrain_x_col = train[[\n    'Season', \"Set\", 'Gender', 'TeamA', 'TeamB', 'AWRatio', 'BWRatio',\n    'AEFG', 'BEFG', 'AOppEFG', 'BOppEFG', 'APPP', 'BPPP', 'AOppPPP',\n    'BOppPPP', 'ATS', 'BTS', 'AOppTS', 'BOppTS', \"AORTG\", \"BORTG\", \"ADRTG\", \"BDRTG\",\n    'ATOVPct', 'BTOVPct', 'AOppTOV', 'BOppTOV', 'AORPct', 'BORPct',\n    'ADRPct', 'BDRPct', 'AFTR', 'BFTR', 'AOppFTR', 'BOppFTR', \"4F\",\n    'SeedA', 'SeedB'\n]]\n\ntrain_y_col = train['AWin']\n\nX_train, X_test, y_train, y_test = train_test_split(train_x_col, train_y_col, test_size=0.3, random_state = 0)",
            "metadata": {
                "trusted": true
            },
            "outputs": [],
            "execution_count": null
        },
        {
            "id": "7f6152e0-2040-4fcd-a666-7696020a3991",
            "cell_type": "code",
            "source": "# Scale the data\nscaler = MinMaxScaler()\nscaler.fit(X_train)\nX_train = pd.DataFrame(scaler.transform(X_train), columns=X_train.columns, index=X_train.index)\nX_test = pd.DataFrame(scaler.transform(X_test), columns=X_test.columns, index=X_test.index)",
            "metadata": {
                "trusted": true
            },
            "outputs": [],
            "execution_count": null
        },
        {
            "id": "72da7520-ee87-416f-97c7-f707ba9b4fd3",
            "cell_type": "code",
            "source": "# Cross validation\nk_fold = KFold(n_splits=10, shuffle=True, random_state=0)",
            "metadata": {
                "trusted": true
            },
            "outputs": [],
            "execution_count": null
        },
        {
            "id": "ed909431-8b18-4ffd-ad61-a14ce0ca690f",
            "cell_type": "code",
            "source": "scores = {\"XGB\": {}}\nimportances = {}",
            "metadata": {
                "trusted": true
            },
            "outputs": [],
            "execution_count": null
        },
        {
            "id": "fe81275b-f9c5-481e-8395-b73759d6f49f",
            "cell_type": "code",
            "source": "# XGBoost performed best and was then used for training\n\nxgb_clf = xgboost.XGBClassifier()\nbrier = cross_val_score(xgb_clf, X_train, y_train, cv=k_fold, n_jobs=1, scoring='neg_brier_score')\nbrier = np.mean(brier) * -1\nxgb_clf.fit(X_train, y_train)\npred_Y = xgb_clf.predict_proba(X_test)\nscores[\"XGB\"][\"Brier\"] = brier\nimportances[\"XGB\"] = xgb_clf.feature_importances_",
            "metadata": {
                "trusted": true
            },
            "outputs": [],
            "execution_count": null
        },
        {
            "id": "d885e32c-d91d-447d-9722-7d883cd7cbf8",
            "cell_type": "code",
            "source": "# Create dataframes for both the score dictionary and importance dictionary\n\nscore_df = pd.DataFrame.from_dict(scores).T\nimportances_df = pd.DataFrame.from_dict(importances)\nimportances_df.index = X_train.columns\nimportances_df['mean_importance'] = importances_df.mean(axis=1)\nimportances_df = importances_df.sort_values(by='XGB', ascending=False)",
            "metadata": {
                "trusted": true
            },
            "outputs": [],
            "execution_count": null
        },
        {
            "id": "ff82cff1-d7aa-47f2-9696-8e87e6dfd5c3",
            "cell_type": "code",
            "source": "score_df",
            "metadata": {
                "trusted": true
            },
            "outputs": [],
            "execution_count": null
        },
        {
            "id": "6ad79c59-500a-403c-8f69-df0d774d63b0",
            "cell_type": "code",
            "source": "importances_df",
            "metadata": {
                "trusted": true
            },
            "outputs": [],
            "execution_count": null
        },
        {
            "id": "d0d45af8-8e7f-4bb9-a71c-1c7fc179f53e",
            "cell_type": "code",
            "source": "#Load in sample submission and format\nsample = pd.read_csv(\"/kaggle/input/march-machine-learning-mania-2025/SampleSubmissionStage2.csv\")\nsample['Season'] = sample['ID'].apply(lambda x: int(x.split('_')[0]))\nsample['TeamA'] = sample['ID'].apply(lambda x: int(x.split('_')[1]))\nsample['TeamB'] = sample['ID'].apply(lambda x: int(x.split('_')[2]))\n\nsample[\"Season\"] = sample.Season.astype(\"int\")\nsample[\"TeamA\"] = sample.TeamA.astype(\"int\")\nsample[\"TeamB\"] = sample.TeamB.astype(\"int\")",
            "metadata": {
                "trusted": true
            },
            "outputs": [],
            "execution_count": null
        },
        {
            "id": "ec86b285-ddc3-40e8-9d94-0aa6490a6803",
            "cell_type": "code",
            "source": "# Merge sample with seed data\nsample = sample.merge(men_women_seeds[['Season', 'Seed', 'TeamID']], how='left', left_on=['Season', 'TeamA'], right_on=['Season', 'TeamID']).drop('TeamID', axis=1).rename(columns={'Seed': 'SeedA'}).fillna(0)\nsample = sample.merge(men_women_seeds[['Season', 'Seed', 'TeamID']], how='left', left_on=['Season', 'TeamB'], right_on=['Season', 'TeamID']).drop('TeamID', axis=1).rename(columns={'Seed': 'SeedB'}).fillna(0)",
            "metadata": {
                "trusted": true
            },
            "outputs": [],
            "execution_count": null
        },
        {
            "id": "33a8b175-ffcc-4c88-b5d1-77a61261e747",
            "cell_type": "code",
            "source": "sample.head()",
            "metadata": {
                "trusted": true
            },
            "outputs": [],
            "execution_count": null
        },
        {
            "id": "e4216d22-aecc-402f-aa95-de40e64dc0fb",
            "cell_type": "code",
            "source": "# Merge submission_df with the engineered features\n# The data for 2025 is only the regular season... denote this with \"0\"\nsample = pd.merge(\n    sample,\n    df[[\n        \"Season\", \"TeamA\", \"Gender\", \"AWRatio\", \"AEFG\", \"AOppEFG\", \"APPP\", \"AOppPPP\", \"ATS\", \"AOppTS\", \"AORTG\", \"ADRTG\", \"ATOVPct\", \"AOppTOV\", \"AORPct\", \"ADRPct\", \"AFTR\", \"AOppFTR\"\n    ]].groupby([\"Season\", \"TeamA\"]).mean(),\n    on=[\"Season\", \"TeamA\"],\n    how=\"left\"\n)\nsample = pd.merge(\n    sample,\n    df[[\n        \"Season\", \"TeamB\", \"BWRatio\", \"BEFG\", \"BOppEFG\", \"BPPP\", \"BOppPPP\", \"BTS\", \"BOppTS\", \"BORTG\", \"BDRTG\", \"BTOVPct\", \"BOppTOV\", \"BORPct\", \"BDRPct\", \"BFTR\", \"BOppFTR\"\n    ]].groupby([\"Season\", \"TeamB\"]).mean(),\n    on=[\"Season\", \"TeamB\"],\n    how=\"left\"\n)\n\nsample[\"Set\"] = 0\nsample[[\n    \"Gender\", \"AWRatio\", \"AEFG\", \"AOppEFG\", \"APPP\", \"AOppPPP\", \"ATS\", \"AOppTS\", \"AORTG\", \"ADRTG\", \"ATOVPct\", \"AOppTOV\", \"AORPct\", \"ADRPct\", \"AFTR\", \"AOppFTR\", \"TeamB\", \"BWRatio\", \"BEFG\", \"BOppEFG\", \"BPPP\", \"BOppPPP\", \"BTS\", \"BOppTS\", \"BORTG\", \"BDRTG\", \"BTOVPct\", \"BOppTOV\", \"BORPct\", \"BDRPct\", \"BFTR\", \"BOppFTR\"\n]] = sample[[\n    \"Gender\", \"AWRatio\", \"AEFG\", \"AOppEFG\", \"APPP\", \"AOppPPP\", \"ATS\", \"AOppTS\", \"AORTG\", \"ADRTG\", \"ATOVPct\", \"AOppTOV\", \"AORPct\", \"ADRPct\", \"AFTR\", \"AOppFTR\", \"TeamB\", \"BWRatio\", \"BEFG\", \"BOppEFG\", \"BPPP\", \"BOppPPP\", \"BTS\", \"BOppTS\", \"BORTG\", \"BDRTG\", \"BTOVPct\", \"BOppTOV\", \"BORPct\", \"BDRPct\", \"BFTR\", \"BOppFTR\"\n]].fillna(sample[[\n    \"Gender\", \"AWRatio\", \"AEFG\", \"AOppEFG\", \"APPP\", \"AOppPPP\", \"ATS\", \"AOppTS\", \"AORTG\", \"ADRTG\", \"ATOVPct\", \"AOppTOV\", \"AORPct\", \"ADRPct\", \"AFTR\", \"AOppFTR\", \"TeamB\", \"BWRatio\", \"BEFG\", \"BOppEFG\", \"BPPP\", \"BOppPPP\", \"BTS\", \"BOppTS\", \"BORTG\", \"BDRTG\", \"BTOVPct\", \"BOppTOV\", \"BORPct\", \"BDRPct\", \"BFTR\", \"BOppFTR\"\n]].mean())",
            "metadata": {
                "trusted": true
            },
            "outputs": [],
            "execution_count": null
        },
        {
            "id": "219e5f3a-9896-484d-8351-36e77d961c9b",
            "cell_type": "code",
            "source": "sample.head()",
            "metadata": {
                "trusted": true
            },
            "outputs": [],
            "execution_count": null
        },
        {
            "id": "9fd06333-f29e-4b97-a917-9c32a5ccde07",
            "cell_type": "code",
            "source": "#Engineer the last feature and select the features for predictions\nsample[[\"Season\", \"TeamB\", \"TeamA\", \"SeedA\", \"SeedB\", \"Gender\", \"Set\"]] = sample[[\"Season\", \"TeamB\", \"TeamA\", \"SeedA\", \"SeedB\", \"Gender\", \"Set\"]].astype(int)\nsample[\"4fODiff\"] = (0.4 * (sample[\"AEFG\"] - sample[\"BEFG\"])) - (0.25 * (sample[\"ATOVPct\"] - sample[\"BTOVPct\"])) + (0.2 * (sample[\"AORPct\"] - sample[\"BORPct\"])) + (0.15 * (sample[\"AFTR\"] - sample[\"BFTR\"]))\nsample[\"4fDDiff\"] = -(0.4 * (sample[\"AOppEFG\"] - sample[\"BOppEFG\"])) + (0.25 * (sample[\"AOppTOV\"] - sample[\"BOppTOV\"])) + (0.2 * (sample[\"ADRPct\"] - sample[\"BDRPct\"])) - (0.15 * (sample[\"AOppFTR\"] - sample[\"BOppFTR\"]))\nsample[\"4F\"] = sample[\"4fODiff\"] - sample[\"4fDDiff\"]\nsample.drop([\"4fODiff\", \"4fDDiff\"], axis=1, inplace=True)\nsample = sample[['Season', \"Set\", 'Gender', 'TeamA', 'TeamB', 'AWRatio', 'BWRatio',\n       'AEFG', 'BEFG', 'AOppEFG', 'BOppEFG', 'APPP', 'BPPP', 'AOppPPP',\n       'BOppPPP', 'ATS', 'BTS', 'AOppTS', 'BOppTS', 'AORTG', 'BORTG', 'ADRTG',\n       'BDRTG', 'ATOVPct', 'BTOVPct', 'AOppTOV', 'BOppTOV', 'AORPct', 'BORPct',\n       'ADRPct', 'BDRPct', 'AFTR', 'BFTR', 'AOppFTR', 'BOppFTR', \"4F\",\n       'SeedA', 'SeedB']]",
            "metadata": {
                "trusted": true
            },
            "outputs": [],
            "execution_count": null
        },
        {
            "id": "3be4f301-43e9-4b87-be6e-96a1109ae22e",
            "cell_type": "code",
            "source": "sample.head()",
            "metadata": {
                "trusted": true
            },
            "outputs": [],
            "execution_count": null
        },
        {
            "id": "f6c8101f-5834-4c4c-b3fa-73675d2691c9",
            "cell_type": "code",
            "source": "# Scale data\nsample = pd.DataFrame(\n    scaler.transform(sample),\n    columns=sample.columns,\n    index=sample.index\n)",
            "metadata": {
                "trusted": true
            },
            "outputs": [],
            "execution_count": null
        },
        {
            "id": "baa1aa32-e759-4b2e-8fc7-eb8dd35367d7",
            "cell_type": "code",
            "source": "# Predict on submission set and prepare submission for the competition\n\nsubmission_df = pd.read_csv(\"/kaggle/input/march-machine-learning-mania-2025/SampleSubmissionStage2.csv\")\nsub_pred = xgb_clf.predict_proba(sample).astype(float)\nsub_pred = sub_pred[:, 1]\nsubmission_df['Pred'] = sub_pred",
            "metadata": {
                "trusted": true
            },
            "outputs": [],
            "execution_count": null
        },
        {
            "id": "c9c2d586-b15b-4e6d-90cb-4e4ab025d1ca",
            "cell_type": "code",
            "source": "submission_df.head()",
            "metadata": {
                "trusted": true
            },
            "outputs": [],
            "execution_count": null
        },
        {
            "id": "04759b08",
            "cell_type": "markdown",
            "source": "## Understand the metric\nWe don't know the outcomes of the games, so instead let's assume that the team that was listed first won every single matchup. This is what we'll call our \"true value\". Next, we'll calculate the average squared difference between the probabilities in our submission and that ground truth value. We'll call this the \"Brier score\". https://en.wikipedia.org/wiki/Brier_score",
            "metadata": {
                "papermill": {
                    "duration": 0.004931,
                    "end_time": "2025-02-24T23:07:31.997930",
                    "exception": false,
                    "start_time": "2025-02-24T23:07:31.992999",
                    "status": "completed"
                },
                "tags": []
            }
        },
        {
            "id": "b67fe9af",
            "cell_type": "markdown",
            "source": "# Create label data and evaluate accuracy",
            "metadata": {}
        },
        {
            "id": "9f699d5d",
            "cell_type": "code",
            "source": "# Use tourney results for evaluation\nm_tourney = pd.read_csv('/kaggle/input/march-machine-learning-mania-2025/MNCAATourneyCompactResults.csv')\nw_tourney = pd.read_csv('/kaggle/input/march-machine-learning-mania-2025/WNCAATourneyCompactResults.csv')\ntourney_results = pd.concat([m_tourney, w_tourney])\nprint(tourney_results)",
            "metadata": {
                "trusted": true
            },
            "outputs": [],
            "execution_count": null
        },
        {
            "id": "d470bab4",
            "cell_type": "code",
            "source": "def create_all_tourney_combination(tourney_results):\n    # Ensure small ID comes first\n    df = tourney_results.copy()\n    df[\"SmallID\"] = df[[\"WTeamID\", \"LTeamID\"]].min(axis=1)\n    df[\"BigID\"] = df[[\"WTeamID\", \"LTeamID\"]].max(axis=1)\n\n    # Create ID in the format year_smallerId_biggerId\n    df[\"ID\"] = df[\"Season\"].astype(str) + \"_\" + df[\"SmallID\"].astype(str) + \"_\" + df[\"BigID\"].astype(str)\n\n    # Set prediction based on the original winner\n    df[\"Pred\"] = (df[\"SmallID\"] == df[\"WTeamID\"]).astype(int)\n\n    return df[[\"ID\", \"Pred\"]]",
            "metadata": {
                "trusted": true
            },
            "outputs": [],
            "execution_count": null
        },
        {
            "id": "820ad662",
            "cell_type": "code",
            "source": "tourney_df = create_all_tourney_combination(tourney_results)\nprint(tourney_df)",
            "metadata": {
                "trusted": true
            },
            "outputs": [],
            "execution_count": null
        },
        {
            "id": "d7b065fe",
            "cell_type": "code",
            "source": "from sklearn.metrics import brier_score_loss\n\ndef create_evaluation_data(tourney_df, prediction):\n    # Merge to keep only matching IDs\n    merged_df = tourney_df.merge(prediction, on=\"ID\", suffixes=(\"_true\", \"_pred\"))\n    if merged_df.empty:\n        # If there are no matchings between label data and prediction, return 0\n        return None\n\n    return merged_df",
            "metadata": {
                "trusted": true
            },
            "outputs": [],
            "execution_count": null
        },
        {
            "id": "e64a42ab",
            "cell_type": "code",
            "source": "prediction_test_data = submission_df.copy()\n# Create example test data by converting year from 2025 to 2024, because we don't have 2025 data yet.\nprediction_test_data[\"ID\"] = prediction_test_data[\"ID\"].str.replace(\"2025_\", \"2024_\", regex=False)\nmerged_df = create_evaluation_data(tourney_df, prediction_test_data)  # Extract matching values\n\n# Calculate Brier Score\nif not merged_df is None:\n    y_true = merged_df[\"Pred_true\"]  # Actual results (0 or 1)\n    y_pred = merged_df[\"Pred_pred\"]  # Predicted probabilities\n    brier_score = brier_score_loss(y_true, y_pred)\nelse:\n    brier_score = 0\n\nprint(\"Brier Score:\", brier_score)",
            "metadata": {
                "trusted": true
            },
            "outputs": [],
            "execution_count": null
        },
        {
            "id": "0eca88f9",
            "cell_type": "markdown",
            "source": "# Make submission",
            "metadata": {
                "papermill": {
                    "duration": 0.005092,
                    "end_time": "2025-02-24T23:07:33.781273",
                    "exception": false,
                    "start_time": "2025-02-24T23:07:33.776181",
                    "status": "completed"
                },
                "tags": []
            }
        },
        {
            "id": "d464c1d4",
            "cell_type": "code",
            "source": "submission_df.to_csv('/kaggle/working/submission.csv', index=False)",
            "metadata": {
                "papermill": {
                    "duration": 0.278355,
                    "end_time": "2025-02-24T23:07:34.064797",
                    "exception": false,
                    "start_time": "2025-02-24T23:07:33.786442",
                    "status": "completed"
                },
                "tags": [],
                "trusted": true
            },
            "outputs": [],
            "execution_count": null
        }
    ]
}
