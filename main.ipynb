{
 "cells": [
  {
   "cell_type": "code",
   "execution_count": 1,
   "id": "517e41c8",
   "metadata": {
    "_cell_guid": "b1076dfc-b9ad-4769-8c92-a6c4dae69d19",
    "_uuid": "8f2839f25d086af736a60e9eeb907d3b93b6e0e5",
    "execution": {
     "iopub.execute_input": "2025-02-24T22:49:57.611649Z",
     "iopub.status.busy": "2025-02-24T22:49:57.611302Z",
     "iopub.status.idle": "2025-02-24T22:49:58.642977Z",
     "shell.execute_reply": "2025-02-24T22:49:58.641743Z"
    },
    "papermill": {
     "duration": 1.039346,
     "end_time": "2025-02-24T22:49:58.644766",
     "exception": false,
     "start_time": "2025-02-24T22:49:57.605420",
     "status": "completed"
    },
    "tags": []
   },
   "outputs": [
    {
     "name": "stdout",
     "output_type": "stream",
     "text": [
      "/kaggle/input/march-machine-learning-mania-2025/Conferences.csv\n",
      "/kaggle/input/march-machine-learning-mania-2025/SeedBenchmarkStage1.csv\n",
      "/kaggle/input/march-machine-learning-mania-2025/WNCAATourneyDetailedResults.csv\n",
      "/kaggle/input/march-machine-learning-mania-2025/WRegularSeasonCompactResults.csv\n",
      "/kaggle/input/march-machine-learning-mania-2025/MNCAATourneySeedRoundSlots.csv\n",
      "/kaggle/input/march-machine-learning-mania-2025/MRegularSeasonDetailedResults.csv\n",
      "/kaggle/input/march-machine-learning-mania-2025/MNCAATourneyCompactResults.csv\n",
      "/kaggle/input/march-machine-learning-mania-2025/MGameCities.csv\n",
      "/kaggle/input/march-machine-learning-mania-2025/WSecondaryTourneyCompactResults.csv\n",
      "/kaggle/input/march-machine-learning-mania-2025/WGameCities.csv\n",
      "/kaggle/input/march-machine-learning-mania-2025/MSeasons.csv\n",
      "/kaggle/input/march-machine-learning-mania-2025/WNCAATourneySlots.csv\n",
      "/kaggle/input/march-machine-learning-mania-2025/MSecondaryTourneyTeams.csv\n",
      "/kaggle/input/march-machine-learning-mania-2025/SampleSubmissionStage2.csv\n",
      "/kaggle/input/march-machine-learning-mania-2025/Cities.csv\n",
      "/kaggle/input/march-machine-learning-mania-2025/MTeamSpellings.csv\n",
      "/kaggle/input/march-machine-learning-mania-2025/MRegularSeasonCompactResults.csv\n",
      "/kaggle/input/march-machine-learning-mania-2025/MMasseyOrdinals.csv\n",
      "/kaggle/input/march-machine-learning-mania-2025/MSecondaryTourneyCompactResults.csv\n",
      "/kaggle/input/march-machine-learning-mania-2025/WTeams.csv\n",
      "/kaggle/input/march-machine-learning-mania-2025/WConferenceTourneyGames.csv\n",
      "/kaggle/input/march-machine-learning-mania-2025/MNCAATourneySlots.csv\n",
      "/kaggle/input/march-machine-learning-mania-2025/MNCAATourneySeeds.csv\n",
      "/kaggle/input/march-machine-learning-mania-2025/WNCAATourneyCompactResults.csv\n",
      "/kaggle/input/march-machine-learning-mania-2025/WSeasons.csv\n",
      "/kaggle/input/march-machine-learning-mania-2025/WNCAATourneySeeds.csv\n",
      "/kaggle/input/march-machine-learning-mania-2025/MTeamCoaches.csv\n",
      "/kaggle/input/march-machine-learning-mania-2025/MConferenceTourneyGames.csv\n",
      "/kaggle/input/march-machine-learning-mania-2025/WRegularSeasonDetailedResults.csv\n",
      "/kaggle/input/march-machine-learning-mania-2025/MNCAATourneyDetailedResults.csv\n",
      "/kaggle/input/march-machine-learning-mania-2025/WTeamSpellings.csv\n",
      "/kaggle/input/march-machine-learning-mania-2025/MTeamConferences.csv\n",
      "/kaggle/input/march-machine-learning-mania-2025/MTeams.csv\n",
      "/kaggle/input/march-machine-learning-mania-2025/WTeamConferences.csv\n",
      "/kaggle/input/march-machine-learning-mania-2025/SampleSubmissionStage1.csv\n",
      "/kaggle/input/march-machine-learning-mania-2025/WSecondaryTourneyTeams.csv\n"
     ]
    }
   ],
   "source": [
    "# This Python 3 environment comes with many helpful analytics libraries installed\n",
    "# It is defined by the kaggle/python Docker image: https://github.com/kaggle/docker-python\n",
    "# For example, here's several helpful packages to load\n",
    "\n",
    "import numpy as np # linear algebra\n",
    "import pandas as pd # data processing, CSV file I/O (e.g. pd.read_csv)\n",
    "\n",
    "# Input data files are available in the read-only \"../input/\" directory\n",
    "# For example, running this (by clicking run or pressing Shift+Enter) will list all files under the input directory\n",
    "\n",
    "import os\n",
    "for dirname, _, filenames in os.walk('/kaggle/input'):\n",
    "    for filename in filenames:\n",
    "        print(os.path.join(dirname, filename))\n",
    "\n",
    "# You can write up to 20GB to the current directory (/kaggle/working/) that gets preserved as output when you create a version using \"Save & Run All\" \n",
    "# You can also write temporary files to /kaggle/temp/, but they won't be saved outside of the current session"
   ]
  },
  {
   "cell_type": "markdown",
   "id": "49417b48",
   "metadata": {
    "papermill": {
     "duration": 0.003623,
     "end_time": "2025-02-24T22:49:58.653000",
     "exception": false,
     "start_time": "2025-02-24T22:49:58.649377",
     "status": "completed"
    },
    "tags": []
   },
   "source": [
    "# EDA"
   ]
  },
  {
   "cell_type": "markdown",
   "id": "de27264d",
   "metadata": {
    "papermill": {
     "duration": 0.003513,
     "end_time": "2025-02-24T22:49:58.660327",
     "exception": false,
     "start_time": "2025-02-24T22:49:58.656814",
     "status": "completed"
    },
    "tags": []
   },
   "source": [
    "# Simple starter code"
   ]
  },
  {
   "cell_type": "code",
   "execution_count": 2,
   "id": "9507606e",
   "metadata": {
    "execution": {
     "iopub.execute_input": "2025-02-24T22:49:58.669245Z",
     "iopub.status.busy": "2025-02-24T22:49:58.668861Z",
     "iopub.status.idle": "2025-02-24T22:49:58.833036Z",
     "shell.execute_reply": "2025-02-24T22:49:58.832234Z"
    },
    "papermill": {
     "duration": 0.170795,
     "end_time": "2025-02-24T22:49:58.834832",
     "exception": false,
     "start_time": "2025-02-24T22:49:58.664037",
     "status": "completed"
    },
    "tags": []
   },
   "outputs": [],
   "source": [
    "w_seed = pd.read_csv('/kaggle/input/march-machine-learning-mania-2025/WNCAATourneySeeds.csv')\n",
    "m_seed = pd.read_csv('/kaggle/input/march-machine-learning-mania-2025/MNCAATourneySeeds.csv')\n",
    "seed_df = pd.concat([m_seed, w_seed], axis=0).fillna(0.05)\n",
    "submission_df = pd.read_csv('/kaggle/input/march-machine-learning-mania-2025/SampleSubmissionStage2.csv')"
   ]
  },
  {
   "cell_type": "markdown",
   "id": "780bb316",
   "metadata": {
    "papermill": {
     "duration": 0.003659,
     "end_time": "2025-02-24T22:49:58.843067",
     "exception": false,
     "start_time": "2025-02-24T22:49:58.839408",
     "status": "completed"
    },
    "tags": []
   },
   "source": [
    "Team rankings are present in the files WNCAATourneySeeds.csv and MNCAATourneySeeds.csv.\n",
    "\n",
    "- The \"Season\" column indicates the year\n",
    "- The \"Seed\" column indicates the ranking for a given conference (W01 = ranking 1 in conference W)\n",
    "- The \"TeamID\" column contains a unique identifier for every team"
   ]
  },
  {
   "cell_type": "code",
   "execution_count": 3,
   "id": "40edf9da",
   "metadata": {
    "execution": {
     "iopub.execute_input": "2025-02-24T22:49:58.852038Z",
     "iopub.status.busy": "2025-02-24T22:49:58.851745Z",
     "iopub.status.idle": "2025-02-24T22:49:58.876560Z",
     "shell.execute_reply": "2025-02-24T22:49:58.875494Z"
    },
    "papermill": {
     "duration": 0.031431,
     "end_time": "2025-02-24T22:49:58.878444",
     "exception": false,
     "start_time": "2025-02-24T22:49:58.847013",
     "status": "completed"
    },
    "tags": []
   },
   "outputs": [
    {
     "data": {
      "text/html": [
       "<div>\n",
       "<style scoped>\n",
       "    .dataframe tbody tr th:only-of-type {\n",
       "        vertical-align: middle;\n",
       "    }\n",
       "\n",
       "    .dataframe tbody tr th {\n",
       "        vertical-align: top;\n",
       "    }\n",
       "\n",
       "    .dataframe thead th {\n",
       "        text-align: right;\n",
       "    }\n",
       "</style>\n",
       "<table border=\"1\" class=\"dataframe\">\n",
       "  <thead>\n",
       "    <tr style=\"text-align: right;\">\n",
       "      <th></th>\n",
       "      <th>Season</th>\n",
       "      <th>Seed</th>\n",
       "      <th>TeamID</th>\n",
       "    </tr>\n",
       "  </thead>\n",
       "  <tbody>\n",
       "    <tr>\n",
       "      <th>0</th>\n",
       "      <td>1985</td>\n",
       "      <td>W01</td>\n",
       "      <td>1207</td>\n",
       "    </tr>\n",
       "    <tr>\n",
       "      <th>1</th>\n",
       "      <td>1985</td>\n",
       "      <td>W02</td>\n",
       "      <td>1210</td>\n",
       "    </tr>\n",
       "    <tr>\n",
       "      <th>2</th>\n",
       "      <td>1985</td>\n",
       "      <td>W03</td>\n",
       "      <td>1228</td>\n",
       "    </tr>\n",
       "    <tr>\n",
       "      <th>3</th>\n",
       "      <td>1985</td>\n",
       "      <td>W04</td>\n",
       "      <td>1260</td>\n",
       "    </tr>\n",
       "    <tr>\n",
       "      <th>4</th>\n",
       "      <td>1985</td>\n",
       "      <td>W05</td>\n",
       "      <td>1374</td>\n",
       "    </tr>\n",
       "  </tbody>\n",
       "</table>\n",
       "</div>"
      ],
      "text/plain": [
       "   Season Seed  TeamID\n",
       "0    1985  W01    1207\n",
       "1    1985  W02    1210\n",
       "2    1985  W03    1228\n",
       "3    1985  W04    1260\n",
       "4    1985  W05    1374"
      ]
     },
     "execution_count": 3,
     "metadata": {},
     "output_type": "execute_result"
    }
   ],
   "source": [
    "seed_df.head()"
   ]
  },
  {
   "cell_type": "markdown",
   "id": "1c12c94a",
   "metadata": {
    "papermill": {
     "duration": 0.003721,
     "end_time": "2025-02-24T22:49:58.887081",
     "exception": false,
     "start_time": "2025-02-24T22:49:58.883360",
     "status": "completed"
    },
    "tags": []
   },
   "source": [
    "The sample_submission.csv file contains an \"ID\" column with the format year_teamID1_teamID2."
   ]
  },
  {
   "cell_type": "code",
   "execution_count": 4,
   "id": "b7a285cf",
   "metadata": {
    "execution": {
     "iopub.execute_input": "2025-02-24T22:49:58.896081Z",
     "iopub.status.busy": "2025-02-24T22:49:58.895777Z",
     "iopub.status.idle": "2025-02-24T22:49:58.904396Z",
     "shell.execute_reply": "2025-02-24T22:49:58.903215Z"
    },
    "papermill": {
     "duration": 0.015085,
     "end_time": "2025-02-24T22:49:58.906107",
     "exception": false,
     "start_time": "2025-02-24T22:49:58.891022",
     "status": "completed"
    },
    "tags": []
   },
   "outputs": [
    {
     "data": {
      "text/html": [
       "<div>\n",
       "<style scoped>\n",
       "    .dataframe tbody tr th:only-of-type {\n",
       "        vertical-align: middle;\n",
       "    }\n",
       "\n",
       "    .dataframe tbody tr th {\n",
       "        vertical-align: top;\n",
       "    }\n",
       "\n",
       "    .dataframe thead th {\n",
       "        text-align: right;\n",
       "    }\n",
       "</style>\n",
       "<table border=\"1\" class=\"dataframe\">\n",
       "  <thead>\n",
       "    <tr style=\"text-align: right;\">\n",
       "      <th></th>\n",
       "      <th>ID</th>\n",
       "      <th>Pred</th>\n",
       "    </tr>\n",
       "  </thead>\n",
       "  <tbody>\n",
       "    <tr>\n",
       "      <th>0</th>\n",
       "      <td>2025_1101_1102</td>\n",
       "      <td>0.5</td>\n",
       "    </tr>\n",
       "    <tr>\n",
       "      <th>1</th>\n",
       "      <td>2025_1101_1103</td>\n",
       "      <td>0.5</td>\n",
       "    </tr>\n",
       "    <tr>\n",
       "      <th>2</th>\n",
       "      <td>2025_1101_1104</td>\n",
       "      <td>0.5</td>\n",
       "    </tr>\n",
       "    <tr>\n",
       "      <th>3</th>\n",
       "      <td>2025_1101_1105</td>\n",
       "      <td>0.5</td>\n",
       "    </tr>\n",
       "    <tr>\n",
       "      <th>4</th>\n",
       "      <td>2025_1101_1106</td>\n",
       "      <td>0.5</td>\n",
       "    </tr>\n",
       "  </tbody>\n",
       "</table>\n",
       "</div>"
      ],
      "text/plain": [
       "               ID  Pred\n",
       "0  2025_1101_1102   0.5\n",
       "1  2025_1101_1103   0.5\n",
       "2  2025_1101_1104   0.5\n",
       "3  2025_1101_1105   0.5\n",
       "4  2025_1101_1106   0.5"
      ]
     },
     "execution_count": 4,
     "metadata": {},
     "output_type": "execute_result"
    }
   ],
   "source": [
    "submission_df.head()"
   ]
  },
  {
   "cell_type": "markdown",
   "id": "d983ac83",
   "metadata": {
    "papermill": {
     "duration": 0.004022,
     "end_time": "2025-02-24T22:49:58.914921",
     "exception": false,
     "start_time": "2025-02-24T22:49:58.910899",
     "status": "completed"
    },
    "tags": []
   },
   "source": [
    "## Extract game info and team rankings"
   ]
  },
  {
   "cell_type": "code",
   "execution_count": 5,
   "id": "8009319b",
   "metadata": {
    "execution": {
     "iopub.execute_input": "2025-02-24T22:49:58.924465Z",
     "iopub.status.busy": "2025-02-24T22:49:58.924134Z",
     "iopub.status.idle": "2025-02-24T22:49:59.209595Z",
     "shell.execute_reply": "2025-02-24T22:49:59.208479Z"
    },
    "papermill": {
     "duration": 0.291754,
     "end_time": "2025-02-24T22:49:59.210864",
     "exception": false,
     "start_time": "2025-02-24T22:49:58.919110",
     "status": "completed"
    },
    "tags": []
   },
   "outputs": [
    {
     "name": "stdout",
     "output_type": "stream",
     "text": [
      "                    ID  Pred  Season  TeamID1  TeamID2  SeedValue1  SeedValue2\n",
      "0       2025_1101_1102   0.5    2025     1101     1102         NaN         NaN\n",
      "1       2025_1101_1103   0.5    2025     1101     1103         NaN         NaN\n",
      "2       2025_1101_1104   0.5    2025     1101     1104         NaN         NaN\n",
      "3       2025_1101_1105   0.5    2025     1101     1105         NaN         NaN\n",
      "4       2025_1101_1106   0.5    2025     1101     1106         NaN         NaN\n",
      "...                ...   ...     ...      ...      ...         ...         ...\n",
      "131402  2025_3477_3479   0.5    2025     3477     3479         NaN         NaN\n",
      "131403  2025_3477_3480   0.5    2025     3477     3480         NaN         NaN\n",
      "131404  2025_3478_3479   0.5    2025     3478     3479         NaN         NaN\n",
      "131405  2025_3478_3480   0.5    2025     3478     3480         NaN         NaN\n",
      "131406  2025_3479_3480   0.5    2025     3479     3480         NaN         NaN\n",
      "\n",
      "[131407 rows x 7 columns]\n"
     ]
    },
    {
     "name": "stderr",
     "output_type": "stream",
     "text": [
      "/usr/local/lib/python3.10/dist-packages/pandas/io/formats/format.py:1458: RuntimeWarning: invalid value encountered in greater\n",
      "  has_large_values = (abs_vals > 1e6).any()\n",
      "/usr/local/lib/python3.10/dist-packages/pandas/io/formats/format.py:1459: RuntimeWarning: invalid value encountered in less\n",
      "  has_small_values = ((abs_vals < 10 ** (-self.digits)) & (abs_vals > 0)).any()\n",
      "/usr/local/lib/python3.10/dist-packages/pandas/io/formats/format.py:1459: RuntimeWarning: invalid value encountered in greater\n",
      "  has_small_values = ((abs_vals < 10 ** (-self.digits)) & (abs_vals > 0)).any()\n"
     ]
    }
   ],
   "source": [
    "def extract_game_info(id_str):\n",
    "    # Extract year and team_ids\n",
    "    parts = id_str.split('_')\n",
    "    year = int(parts[0])\n",
    "    teamID1 = int(parts[1])\n",
    "    teamID2 = int(parts[2])\n",
    "    return year, teamID1, teamID2\n",
    "\n",
    "def extract_seed_value(seed_str):\n",
    "    # Extract seed value\n",
    "    try:\n",
    "        return int(seed_str[1:])\n",
    "    # Set seed to 16 for unselected teams and errors\n",
    "    except ValueError:\n",
    "        return 16\n",
    "\n",
    "# Reformat the data\n",
    "submission_df[['Season', 'TeamID1', 'TeamID2']] = submission_df['ID'].apply(extract_game_info).tolist()\n",
    "seed_df['SeedValue'] = seed_df['Seed'].apply(extract_seed_value)\n",
    "\n",
    "# Merge seed information for TeamID1\n",
    "submission_df = pd.merge(submission_df, seed_df[['Season', 'TeamID', 'SeedValue']],\n",
    "                         left_on=['Season', 'TeamID1'], right_on=['Season', 'TeamID'],\n",
    "                         how='left')\n",
    "submission_df = submission_df.rename(columns={'SeedValue': 'SeedValue1'}).drop(columns=['TeamID'])\n",
    "\n",
    "# Merge seed information for TeamID2\n",
    "submission_df = pd.merge(submission_df, seed_df[['Season', 'TeamID', 'SeedValue']],\n",
    "                         left_on=['Season', 'TeamID2'], right_on=['Season', 'TeamID'],\n",
    "                         how='left')\n",
    "submission_df = submission_df.rename(columns={'SeedValue': 'SeedValue2'}).drop(columns=['TeamID'])\n",
    "print(submission_df)"
   ]
  },
  {
   "cell_type": "markdown",
   "id": "ba83ab58",
   "metadata": {
    "papermill": {
     "duration": 0.003876,
     "end_time": "2025-02-24T22:49:59.219384",
     "exception": false,
     "start_time": "2025-02-24T22:49:59.215508",
     "status": "completed"
    },
    "tags": []
   },
   "source": [
    "## Make your predictions"
   ]
  },
  {
   "cell_type": "code",
   "execution_count": 6,
   "id": "d33ad47b",
   "metadata": {
    "execution": {
     "iopub.execute_input": "2025-02-24T22:49:59.228802Z",
     "iopub.status.busy": "2025-02-24T22:49:59.228501Z",
     "iopub.status.idle": "2025-02-24T22:50:01.518564Z",
     "shell.execute_reply": "2025-02-24T22:50:01.517609Z"
    },
    "papermill": {
     "duration": 2.296789,
     "end_time": "2025-02-24T22:50:01.520283",
     "exception": false,
     "start_time": "2025-02-24T22:49:59.223494",
     "status": "completed"
    },
    "tags": []
   },
   "outputs": [],
   "source": [
    "# Overall ranking of the team in the underlying system.\n",
    "m_massey_ordinals_df = pd.read_csv('/kaggle/input/march-machine-learning-mania-2025/MMasseyOrdinals.csv')"
   ]
  },
  {
   "cell_type": "code",
   "execution_count": 7,
   "id": "155cf324",
   "metadata": {
    "execution": {
     "iopub.execute_input": "2025-02-24T22:50:01.530304Z",
     "iopub.status.busy": "2025-02-24T22:50:01.529973Z",
     "iopub.status.idle": "2025-02-24T22:50:01.537070Z",
     "shell.execute_reply": "2025-02-24T22:50:01.536398Z"
    },
    "papermill": {
     "duration": 0.013324,
     "end_time": "2025-02-24T22:50:01.538480",
     "exception": false,
     "start_time": "2025-02-24T22:50:01.525156",
     "status": "completed"
    },
    "tags": []
   },
   "outputs": [
    {
     "data": {
      "text/html": [
       "<div>\n",
       "<style scoped>\n",
       "    .dataframe tbody tr th:only-of-type {\n",
       "        vertical-align: middle;\n",
       "    }\n",
       "\n",
       "    .dataframe tbody tr th {\n",
       "        vertical-align: top;\n",
       "    }\n",
       "\n",
       "    .dataframe thead th {\n",
       "        text-align: right;\n",
       "    }\n",
       "</style>\n",
       "<table border=\"1\" class=\"dataframe\">\n",
       "  <thead>\n",
       "    <tr style=\"text-align: right;\">\n",
       "      <th></th>\n",
       "      <th>Season</th>\n",
       "      <th>RankingDayNum</th>\n",
       "      <th>SystemName</th>\n",
       "      <th>TeamID</th>\n",
       "      <th>OrdinalRank</th>\n",
       "    </tr>\n",
       "  </thead>\n",
       "  <tbody>\n",
       "    <tr>\n",
       "      <th>0</th>\n",
       "      <td>2003</td>\n",
       "      <td>35</td>\n",
       "      <td>SEL</td>\n",
       "      <td>1102</td>\n",
       "      <td>159</td>\n",
       "    </tr>\n",
       "    <tr>\n",
       "      <th>1</th>\n",
       "      <td>2003</td>\n",
       "      <td>35</td>\n",
       "      <td>SEL</td>\n",
       "      <td>1103</td>\n",
       "      <td>229</td>\n",
       "    </tr>\n",
       "    <tr>\n",
       "      <th>2</th>\n",
       "      <td>2003</td>\n",
       "      <td>35</td>\n",
       "      <td>SEL</td>\n",
       "      <td>1104</td>\n",
       "      <td>12</td>\n",
       "    </tr>\n",
       "    <tr>\n",
       "      <th>3</th>\n",
       "      <td>2003</td>\n",
       "      <td>35</td>\n",
       "      <td>SEL</td>\n",
       "      <td>1105</td>\n",
       "      <td>314</td>\n",
       "    </tr>\n",
       "    <tr>\n",
       "      <th>4</th>\n",
       "      <td>2003</td>\n",
       "      <td>35</td>\n",
       "      <td>SEL</td>\n",
       "      <td>1106</td>\n",
       "      <td>260</td>\n",
       "    </tr>\n",
       "  </tbody>\n",
       "</table>\n",
       "</div>"
      ],
      "text/plain": [
       "   Season  RankingDayNum SystemName  TeamID  OrdinalRank\n",
       "0    2003             35        SEL    1102          159\n",
       "1    2003             35        SEL    1103          229\n",
       "2    2003             35        SEL    1104           12\n",
       "3    2003             35        SEL    1105          314\n",
       "4    2003             35        SEL    1106          260"
      ]
     },
     "execution_count": 7,
     "metadata": {},
     "output_type": "execute_result"
    }
   ],
   "source": [
    "m_massey_ordinals_df.head()"
   ]
  },
  {
   "cell_type": "code",
   "execution_count": 8,
   "id": "0d008dfe",
   "metadata": {
    "execution": {
     "iopub.execute_input": "2025-02-24T22:50:01.548651Z",
     "iopub.status.busy": "2025-02-24T22:50:01.548399Z",
     "iopub.status.idle": "2025-02-24T22:50:01.560441Z",
     "shell.execute_reply": "2025-02-24T22:50:01.559446Z"
    },
    "papermill": {
     "duration": 0.018724,
     "end_time": "2025-02-24T22:50:01.562130",
     "exception": false,
     "start_time": "2025-02-24T22:50:01.543406",
     "status": "completed"
    },
    "tags": []
   },
   "outputs": [],
   "source": [
    "m_massey_ordinals_2025_df = m_massey_ordinals_df[m_massey_ordinals_df['Season'] == 2025]"
   ]
  },
  {
   "cell_type": "code",
   "execution_count": 9,
   "id": "aab271a6",
   "metadata": {
    "execution": {
     "iopub.execute_input": "2025-02-24T22:50:01.572973Z",
     "iopub.status.busy": "2025-02-24T22:50:01.572618Z",
     "iopub.status.idle": "2025-02-24T22:50:01.581146Z",
     "shell.execute_reply": "2025-02-24T22:50:01.580212Z"
    },
    "papermill": {
     "duration": 0.015268,
     "end_time": "2025-02-24T22:50:01.582467",
     "exception": false,
     "start_time": "2025-02-24T22:50:01.567199",
     "status": "completed"
    },
    "tags": []
   },
   "outputs": [
    {
     "data": {
      "text/html": [
       "<div>\n",
       "<style scoped>\n",
       "    .dataframe tbody tr th:only-of-type {\n",
       "        vertical-align: middle;\n",
       "    }\n",
       "\n",
       "    .dataframe tbody tr th {\n",
       "        vertical-align: top;\n",
       "    }\n",
       "\n",
       "    .dataframe thead th {\n",
       "        text-align: right;\n",
       "    }\n",
       "</style>\n",
       "<table border=\"1\" class=\"dataframe\">\n",
       "  <thead>\n",
       "    <tr style=\"text-align: right;\">\n",
       "      <th></th>\n",
       "      <th>Season</th>\n",
       "      <th>RankingDayNum</th>\n",
       "      <th>SystemName</th>\n",
       "      <th>TeamID</th>\n",
       "      <th>OrdinalRank</th>\n",
       "    </tr>\n",
       "  </thead>\n",
       "  <tbody>\n",
       "    <tr>\n",
       "      <th>5264557</th>\n",
       "      <td>2025</td>\n",
       "      <td>9</td>\n",
       "      <td>AP</td>\n",
       "      <td>1104</td>\n",
       "      <td>2</td>\n",
       "    </tr>\n",
       "    <tr>\n",
       "      <th>5264558</th>\n",
       "      <td>2025</td>\n",
       "      <td>9</td>\n",
       "      <td>AP</td>\n",
       "      <td>1112</td>\n",
       "      <td>9</td>\n",
       "    </tr>\n",
       "    <tr>\n",
       "      <th>5264559</th>\n",
       "      <td>2025</td>\n",
       "      <td>9</td>\n",
       "      <td>AP</td>\n",
       "      <td>1116</td>\n",
       "      <td>18</td>\n",
       "    </tr>\n",
       "    <tr>\n",
       "      <th>5264560</th>\n",
       "      <td>2025</td>\n",
       "      <td>9</td>\n",
       "      <td>AP</td>\n",
       "      <td>1120</td>\n",
       "      <td>5</td>\n",
       "    </tr>\n",
       "    <tr>\n",
       "      <th>5264561</th>\n",
       "      <td>2025</td>\n",
       "      <td>9</td>\n",
       "      <td>AP</td>\n",
       "      <td>1124</td>\n",
       "      <td>12</td>\n",
       "    </tr>\n",
       "  </tbody>\n",
       "</table>\n",
       "</div>"
      ],
      "text/plain": [
       "         Season  RankingDayNum SystemName  TeamID  OrdinalRank\n",
       "5264557    2025              9         AP    1104            2\n",
       "5264558    2025              9         AP    1112            9\n",
       "5264559    2025              9         AP    1116           18\n",
       "5264560    2025              9         AP    1120            5\n",
       "5264561    2025              9         AP    1124           12"
      ]
     },
     "execution_count": 9,
     "metadata": {},
     "output_type": "execute_result"
    }
   ],
   "source": [
    "m_massey_ordinals_2025_df.head()"
   ]
  },
  {
   "cell_type": "code",
   "execution_count": 10,
   "id": "877241d5",
   "metadata": {
    "execution": {
     "iopub.execute_input": "2025-02-24T22:50:01.593751Z",
     "iopub.status.busy": "2025-02-24T22:50:01.593458Z",
     "iopub.status.idle": "2025-02-24T22:50:01.604737Z",
     "shell.execute_reply": "2025-02-24T22:50:01.603932Z"
    },
    "papermill": {
     "duration": 0.018354,
     "end_time": "2025-02-24T22:50:01.606095",
     "exception": false,
     "start_time": "2025-02-24T22:50:01.587741",
     "status": "completed"
    },
    "tags": []
   },
   "outputs": [],
   "source": [
    "m_mo_ave_df = pd.DataFrame(m_massey_ordinals_2025_df.groupby(\"TeamID\")[\"OrdinalRank\"].mean())"
   ]
  },
  {
   "cell_type": "code",
   "execution_count": 11,
   "id": "eeb172c9",
   "metadata": {
    "execution": {
     "iopub.execute_input": "2025-02-24T22:50:01.616879Z",
     "iopub.status.busy": "2025-02-24T22:50:01.616482Z",
     "iopub.status.idle": "2025-02-24T22:50:01.624206Z",
     "shell.execute_reply": "2025-02-24T22:50:01.623218Z"
    },
    "papermill": {
     "duration": 0.014473,
     "end_time": "2025-02-24T22:50:01.625637",
     "exception": false,
     "start_time": "2025-02-24T22:50:01.611164",
     "status": "completed"
    },
    "tags": []
   },
   "outputs": [
    {
     "data": {
      "text/html": [
       "<div>\n",
       "<style scoped>\n",
       "    .dataframe tbody tr th:only-of-type {\n",
       "        vertical-align: middle;\n",
       "    }\n",
       "\n",
       "    .dataframe tbody tr th {\n",
       "        vertical-align: top;\n",
       "    }\n",
       "\n",
       "    .dataframe thead th {\n",
       "        text-align: right;\n",
       "    }\n",
       "</style>\n",
       "<table border=\"1\" class=\"dataframe\">\n",
       "  <thead>\n",
       "    <tr style=\"text-align: right;\">\n",
       "      <th></th>\n",
       "      <th>OrdinalRank</th>\n",
       "    </tr>\n",
       "    <tr>\n",
       "      <th>TeamID</th>\n",
       "      <th></th>\n",
       "    </tr>\n",
       "  </thead>\n",
       "  <tbody>\n",
       "    <tr>\n",
       "      <th>1101</th>\n",
       "      <td>231.161238</td>\n",
       "    </tr>\n",
       "    <tr>\n",
       "      <th>1102</th>\n",
       "      <td>300.382736</td>\n",
       "    </tr>\n",
       "    <tr>\n",
       "      <th>1103</th>\n",
       "      <td>125.822476</td>\n",
       "    </tr>\n",
       "    <tr>\n",
       "      <th>1104</th>\n",
       "      <td>6.832827</td>\n",
       "    </tr>\n",
       "    <tr>\n",
       "      <th>1105</th>\n",
       "      <td>348.554649</td>\n",
       "    </tr>\n",
       "  </tbody>\n",
       "</table>\n",
       "</div>"
      ],
      "text/plain": [
       "        OrdinalRank\n",
       "TeamID             \n",
       "1101     231.161238\n",
       "1102     300.382736\n",
       "1103     125.822476\n",
       "1104       6.832827\n",
       "1105     348.554649"
      ]
     },
     "execution_count": 11,
     "metadata": {},
     "output_type": "execute_result"
    }
   ],
   "source": [
    "m_mo_ave_df.head()"
   ]
  },
  {
   "cell_type": "markdown",
   "id": "4c179dd1",
   "metadata": {
    "papermill": {
     "duration": 0.004066,
     "end_time": "2025-02-24T22:50:01.634784",
     "exception": false,
     "start_time": "2025-02-24T22:50:01.630718",
     "status": "completed"
    },
    "tags": []
   },
   "source": [
    "Method 1: Bradley Terry Model\n",
    "\n",
    "Predicts the winning percentage based on the difference in team standings using a logistic function\n",
    "* Statistically well-founded model\n",
    "* Need to adjust parameter c (to fit the data set)\n",
    "* Often used in sports forecasting"
   ]
  },
  {
   "cell_type": "code",
   "execution_count": 12,
   "id": "a405474e",
   "metadata": {
    "execution": {
     "iopub.execute_input": "2025-02-24T22:50:01.644560Z",
     "iopub.status.busy": "2025-02-24T22:50:01.644243Z",
     "iopub.status.idle": "2025-02-24T22:50:02.070496Z",
     "shell.execute_reply": "2025-02-24T22:50:02.069217Z"
    },
    "papermill": {
     "duration": 0.433273,
     "end_time": "2025-02-24T22:50:02.072385",
     "exception": false,
     "start_time": "2025-02-24T22:50:01.639112",
     "status": "completed"
    },
    "tags": []
   },
   "outputs": [],
   "source": [
    "from scipy.special import expit\n",
    "\n",
    "def bradley_terry_probability(team_a: int, team_b: int, ranks: pd.DataFrame, c=0.01) -> np.float64:\n",
    "    rank_diff = ranks.loc[team_b] - ranks.loc[team_a]\n",
    "    prob = expit(c * rank_diff) # Convert to probability with logistic function\n",
    "\n",
    "    return prob[\"OrdinalRank\"]"
   ]
  },
  {
   "cell_type": "markdown",
   "id": "f07fc99e",
   "metadata": {
    "papermill": {
     "duration": 0.004467,
     "end_time": "2025-02-24T22:50:02.082141",
     "exception": false,
     "start_time": "2025-02-24T22:50:02.077674",
     "status": "completed"
    },
    "tags": []
   },
   "source": [
    "Method2: ELO Rating\n",
    "\n",
    "Applying the ELO rating system, we predict the winning percentage based on the difference in rankings\n",
    "* Proven in many competitions, including chess\n",
    "* Scale parameters need to be adjusted\n",
    "* Can be adjusted more accurately with past competition results"
   ]
  },
  {
   "cell_type": "code",
   "execution_count": 13,
   "id": "d373e823",
   "metadata": {
    "execution": {
     "iopub.execute_input": "2025-02-24T22:50:02.092831Z",
     "iopub.status.busy": "2025-02-24T22:50:02.092403Z",
     "iopub.status.idle": "2025-02-24T22:50:02.097236Z",
     "shell.execute_reply": "2025-02-24T22:50:02.096277Z"
    },
    "papermill": {
     "duration": 0.011693,
     "end_time": "2025-02-24T22:50:02.098637",
     "exception": false,
     "start_time": "2025-02-24T22:50:02.086944",
     "status": "completed"
    },
    "tags": []
   },
   "outputs": [],
   "source": [
    "def elo_win_probability(team_a: int, team_b: int, ranks: pd.DataFrame, scale=400):\n",
    "    max_rank = ranks.max()\n",
    "    # Reverse OrdinalRank and treat it like an ELO rating (smaller is stronger)\n",
    "    elo_like_ratings = max_rank - ranks\n",
    "\n",
    "    rating_diff = elo_like_ratings.loc[team_a] - elo_like_ratings.loc[team_b]\n",
    "    prob = 1.0 / (1.0 + 10 ** (-rating_diff / scale))\n",
    "\n",
    "    return prob[\"OrdinalRank\"]"
   ]
  },
  {
   "cell_type": "markdown",
   "id": "ccd41c66",
   "metadata": {
    "papermill": {
     "duration": 0.004289,
     "end_time": "2025-02-24T22:50:02.107954",
     "exception": false,
     "start_time": "2025-02-24T22:50:02.103665",
     "status": "completed"
    },
    "tags": []
   },
   "source": [
    "Method 3: Normalized Rank\n",
    "\n",
    "A method that normalizes a team's ranking to the range [0,1] and interprets it directly as a probability\n",
    "* Simple and easy to implement\n",
    "* Intuitive reflection of relative strength among teams"
   ]
  },
  {
   "cell_type": "code",
   "execution_count": 14,
   "id": "5d3fe74a",
   "metadata": {
    "execution": {
     "iopub.execute_input": "2025-02-24T22:50:02.118002Z",
     "iopub.status.busy": "2025-02-24T22:50:02.117711Z",
     "iopub.status.idle": "2025-02-24T22:50:02.122263Z",
     "shell.execute_reply": "2025-02-24T22:50:02.121319Z"
    },
    "papermill": {
     "duration": 0.010918,
     "end_time": "2025-02-24T22:50:02.123531",
     "exception": false,
     "start_time": "2025-02-24T22:50:02.112613",
     "status": "completed"
    },
    "tags": []
   },
   "outputs": [],
   "source": [
    "def normalized_rank_probability(team_a, team_b, ranks):\n",
    "    # Normalized by inverting the ranks (because smaller is stronger)\n",
    "    reversed_ranks = ranks.max() - ranks\n",
    "    normalized = (reversed_ranks - reversed_ranks.min()) / (reversed_ranks.max() - reversed_ranks.min())\n",
    "\n",
    "    # Calculate win rate from ratio of normalized values\n",
    "    p_a = normalized.loc[team_a]\n",
    "    p_b = normalized.loc[team_b]\n",
    "    win_prob = p_a / (p_a + p_b)\n",
    "\n",
    "    return win_prob[\"OrdinalRank\"]"
   ]
  },
  {
   "cell_type": "code",
   "execution_count": 15,
   "id": "69d89a61",
   "metadata": {
    "execution": {
     "iopub.execute_input": "2025-02-24T22:50:02.134124Z",
     "iopub.status.busy": "2025-02-24T22:50:02.133807Z",
     "iopub.status.idle": "2025-02-24T23:07:31.921907Z",
     "shell.execute_reply": "2025-02-24T23:07:31.920740Z"
    },
    "papermill": {
     "duration": 1049.795222,
     "end_time": "2025-02-24T23:07:31.923919",
     "exception": false,
     "start_time": "2025-02-24T22:50:02.128697",
     "status": "completed"
    },
    "tags": []
   },
   "outputs": [],
   "source": [
    "for target_team in m_mo_ave_df.index:\n",
    "    for opposing_team in m_mo_ave_df.index:\n",
    "        match_id = f\"2025_{target_team}_{opposing_team}\"\n",
    "        pred = bradley_terry_probability(target_team, opposing_team, m_mo_ave_df)\n",
    "        # pred = elo_win_probability(target_team, opposing_team, m_mo_ave_df)\n",
    "        # pred = normalized_rank_probability(target_team, opposing_team, m_mo_ave_df)\n",
    "\n",
    "        submission_df.loc[submission_df[\"ID\"] == match_id, \"Pred\"] = pred"
   ]
  },
  {
   "cell_type": "code",
   "execution_count": 16,
   "id": "f06863be",
   "metadata": {
    "execution": {
     "iopub.execute_input": "2025-02-24T23:07:31.935846Z",
     "iopub.status.busy": "2025-02-24T23:07:31.935489Z",
     "iopub.status.idle": "2025-02-24T23:07:31.947819Z",
     "shell.execute_reply": "2025-02-24T23:07:31.946034Z"
    },
    "papermill": {
     "duration": 0.019743,
     "end_time": "2025-02-24T23:07:31.949502",
     "exception": false,
     "start_time": "2025-02-24T23:07:31.929759",
     "status": "completed"
    },
    "tags": []
   },
   "outputs": [
    {
     "name": "stderr",
     "output_type": "stream",
     "text": [
      "/usr/local/lib/python3.10/dist-packages/pandas/io/formats/format.py:1458: RuntimeWarning: invalid value encountered in greater\n",
      "  has_large_values = (abs_vals > 1e6).any()\n",
      "/usr/local/lib/python3.10/dist-packages/pandas/io/formats/format.py:1459: RuntimeWarning: invalid value encountered in less\n",
      "  has_small_values = ((abs_vals < 10 ** (-self.digits)) & (abs_vals > 0)).any()\n",
      "/usr/local/lib/python3.10/dist-packages/pandas/io/formats/format.py:1459: RuntimeWarning: invalid value encountered in greater\n",
      "  has_small_values = ((abs_vals < 10 ** (-self.digits)) & (abs_vals > 0)).any()\n"
     ]
    },
    {
     "data": {
      "text/html": [
       "<div>\n",
       "<style scoped>\n",
       "    .dataframe tbody tr th:only-of-type {\n",
       "        vertical-align: middle;\n",
       "    }\n",
       "\n",
       "    .dataframe tbody tr th {\n",
       "        vertical-align: top;\n",
       "    }\n",
       "\n",
       "    .dataframe thead th {\n",
       "        text-align: right;\n",
       "    }\n",
       "</style>\n",
       "<table border=\"1\" class=\"dataframe\">\n",
       "  <thead>\n",
       "    <tr style=\"text-align: right;\">\n",
       "      <th></th>\n",
       "      <th>ID</th>\n",
       "      <th>Pred</th>\n",
       "      <th>Season</th>\n",
       "      <th>TeamID1</th>\n",
       "      <th>TeamID2</th>\n",
       "      <th>SeedValue1</th>\n",
       "      <th>SeedValue2</th>\n",
       "    </tr>\n",
       "  </thead>\n",
       "  <tbody>\n",
       "    <tr>\n",
       "      <th>0</th>\n",
       "      <td>2025_1101_1102</td>\n",
       "      <td>0.666459</td>\n",
       "      <td>2025</td>\n",
       "      <td>1101</td>\n",
       "      <td>1102</td>\n",
       "      <td>NaN</td>\n",
       "      <td>NaN</td>\n",
       "    </tr>\n",
       "    <tr>\n",
       "      <th>1</th>\n",
       "      <td>2025_1101_1103</td>\n",
       "      <td>0.258575</td>\n",
       "      <td>2025</td>\n",
       "      <td>1101</td>\n",
       "      <td>1103</td>\n",
       "      <td>NaN</td>\n",
       "      <td>NaN</td>\n",
       "    </tr>\n",
       "    <tr>\n",
       "      <th>2</th>\n",
       "      <td>2025_1101_1104</td>\n",
       "      <td>0.095930</td>\n",
       "      <td>2025</td>\n",
       "      <td>1101</td>\n",
       "      <td>1104</td>\n",
       "      <td>NaN</td>\n",
       "      <td>NaN</td>\n",
       "    </tr>\n",
       "    <tr>\n",
       "      <th>3</th>\n",
       "      <td>2025_1101_1105</td>\n",
       "      <td>0.763855</td>\n",
       "      <td>2025</td>\n",
       "      <td>1101</td>\n",
       "      <td>1105</td>\n",
       "      <td>NaN</td>\n",
       "      <td>NaN</td>\n",
       "    </tr>\n",
       "    <tr>\n",
       "      <th>4</th>\n",
       "      <td>2025_1101_1106</td>\n",
       "      <td>0.627018</td>\n",
       "      <td>2025</td>\n",
       "      <td>1101</td>\n",
       "      <td>1106</td>\n",
       "      <td>NaN</td>\n",
       "      <td>NaN</td>\n",
       "    </tr>\n",
       "    <tr>\n",
       "      <th>...</th>\n",
       "      <td>...</td>\n",
       "      <td>...</td>\n",
       "      <td>...</td>\n",
       "      <td>...</td>\n",
       "      <td>...</td>\n",
       "      <td>...</td>\n",
       "      <td>...</td>\n",
       "    </tr>\n",
       "    <tr>\n",
       "      <th>131402</th>\n",
       "      <td>2025_3477_3479</td>\n",
       "      <td>0.500000</td>\n",
       "      <td>2025</td>\n",
       "      <td>3477</td>\n",
       "      <td>3479</td>\n",
       "      <td>NaN</td>\n",
       "      <td>NaN</td>\n",
       "    </tr>\n",
       "    <tr>\n",
       "      <th>131403</th>\n",
       "      <td>2025_3477_3480</td>\n",
       "      <td>0.500000</td>\n",
       "      <td>2025</td>\n",
       "      <td>3477</td>\n",
       "      <td>3480</td>\n",
       "      <td>NaN</td>\n",
       "      <td>NaN</td>\n",
       "    </tr>\n",
       "    <tr>\n",
       "      <th>131404</th>\n",
       "      <td>2025_3478_3479</td>\n",
       "      <td>0.500000</td>\n",
       "      <td>2025</td>\n",
       "      <td>3478</td>\n",
       "      <td>3479</td>\n",
       "      <td>NaN</td>\n",
       "      <td>NaN</td>\n",
       "    </tr>\n",
       "    <tr>\n",
       "      <th>131405</th>\n",
       "      <td>2025_3478_3480</td>\n",
       "      <td>0.500000</td>\n",
       "      <td>2025</td>\n",
       "      <td>3478</td>\n",
       "      <td>3480</td>\n",
       "      <td>NaN</td>\n",
       "      <td>NaN</td>\n",
       "    </tr>\n",
       "    <tr>\n",
       "      <th>131406</th>\n",
       "      <td>2025_3479_3480</td>\n",
       "      <td>0.500000</td>\n",
       "      <td>2025</td>\n",
       "      <td>3479</td>\n",
       "      <td>3480</td>\n",
       "      <td>NaN</td>\n",
       "      <td>NaN</td>\n",
       "    </tr>\n",
       "  </tbody>\n",
       "</table>\n",
       "<p>131407 rows × 7 columns</p>\n",
       "</div>"
      ],
      "text/plain": [
       "                    ID      Pred  Season  TeamID1  TeamID2  SeedValue1  \\\n",
       "0       2025_1101_1102  0.666459    2025     1101     1102         NaN   \n",
       "1       2025_1101_1103  0.258575    2025     1101     1103         NaN   \n",
       "2       2025_1101_1104  0.095930    2025     1101     1104         NaN   \n",
       "3       2025_1101_1105  0.763855    2025     1101     1105         NaN   \n",
       "4       2025_1101_1106  0.627018    2025     1101     1106         NaN   \n",
       "...                ...       ...     ...      ...      ...         ...   \n",
       "131402  2025_3477_3479  0.500000    2025     3477     3479         NaN   \n",
       "131403  2025_3477_3480  0.500000    2025     3477     3480         NaN   \n",
       "131404  2025_3478_3479  0.500000    2025     3478     3479         NaN   \n",
       "131405  2025_3478_3480  0.500000    2025     3478     3480         NaN   \n",
       "131406  2025_3479_3480  0.500000    2025     3479     3480         NaN   \n",
       "\n",
       "        SeedValue2  \n",
       "0              NaN  \n",
       "1              NaN  \n",
       "2              NaN  \n",
       "3              NaN  \n",
       "4              NaN  \n",
       "...            ...  \n",
       "131402         NaN  \n",
       "131403         NaN  \n",
       "131404         NaN  \n",
       "131405         NaN  \n",
       "131406         NaN  \n",
       "\n",
       "[131407 rows x 7 columns]"
      ]
     },
     "execution_count": 16,
     "metadata": {},
     "output_type": "execute_result"
    }
   ],
   "source": [
    "submission_df"
   ]
  },
  {
   "cell_type": "code",
   "execution_count": 17,
   "id": "9354c8d7",
   "metadata": {
    "execution": {
     "iopub.execute_input": "2025-02-24T23:07:31.962170Z",
     "iopub.status.busy": "2025-02-24T23:07:31.961842Z",
     "iopub.status.idle": "2025-02-24T23:07:31.985879Z",
     "shell.execute_reply": "2025-02-24T23:07:31.985030Z"
    },
    "papermill": {
     "duration": 0.031388,
     "end_time": "2025-02-24T23:07:31.987247",
     "exception": false,
     "start_time": "2025-02-24T23:07:31.955859",
     "status": "completed"
    },
    "tags": []
   },
   "outputs": [
    {
     "name": "stdout",
     "output_type": "stream",
     "text": [
      "count    131407.000000\n",
      "mean          0.496818\n",
      "std           0.190784\n",
      "min           0.027493\n",
      "25%           0.489733\n",
      "50%           0.500000\n",
      "75%           0.500000\n",
      "max           0.972532\n",
      "Name: Pred, dtype: float64\n"
     ]
    }
   ],
   "source": [
    "stats = submission_df.iloc[:, 1].describe()\n",
    "print(stats)"
   ]
  },
  {
   "cell_type": "markdown",
   "id": "04759b08",
   "metadata": {
    "papermill": {
     "duration": 0.004931,
     "end_time": "2025-02-24T23:07:31.997930",
     "exception": false,
     "start_time": "2025-02-24T23:07:31.992999",
     "status": "completed"
    },
    "tags": []
   },
   "source": [
    "## Understand the metric\n",
    "We don't know the outcomes of the games, so instead let's assume that the team that was listed first won every single matchup. This is what we'll call our \"true value\". Next, we'll calculate the average squared difference between the probabilities in our submission and that ground truth value. We'll call this the \"Brier score\". https://en.wikipedia.org/wiki/Brier_score"
   ]
  },
  {
   "cell_type": "code",
   "execution_count": 18,
   "id": "c9ca5260",
   "metadata": {
    "execution": {
     "iopub.execute_input": "2025-02-24T23:07:32.009177Z",
     "iopub.status.busy": "2025-02-24T23:07:32.008870Z",
     "iopub.status.idle": "2025-02-24T23:07:33.768698Z",
     "shell.execute_reply": "2025-02-24T23:07:33.767860Z"
    },
    "papermill": {
     "duration": 1.767519,
     "end_time": "2025-02-24T23:07:33.770495",
     "exception": false,
     "start_time": "2025-02-24T23:07:32.002976",
     "status": "completed"
    },
    "tags": []
   },
   "outputs": [
    {
     "name": "stdout",
     "output_type": "stream",
     "text": [
      "Brier Score: 0.2895905670337449\n"
     ]
    }
   ],
   "source": [
    "from sklearn.metrics import brier_score_loss, mean_squared_error\n",
    "\n",
    "# Create a dataframe of ground truth values\n",
    "solution_df = submission_df.copy()\n",
    "solution_df['Pred'] = 1\n",
    "\n",
    "# Now calculate the Brier score\n",
    "y_true = solution_df['Pred']\n",
    "y_pred = submission_df['Pred']\n",
    "brier_score = brier_score_loss(y_true, y_pred)\n",
    "print(f\"Brier Score: {brier_score}\")"
   ]
  },
  {
   "cell_type": "markdown",
   "id": "0eca88f9",
   "metadata": {
    "papermill": {
     "duration": 0.005092,
     "end_time": "2025-02-24T23:07:33.781273",
     "exception": false,
     "start_time": "2025-02-24T23:07:33.776181",
     "status": "completed"
    },
    "tags": []
   },
   "source": [
    "# Make submission"
   ]
  },
  {
   "cell_type": "code",
   "execution_count": 19,
   "id": "d464c1d4",
   "metadata": {
    "execution": {
     "iopub.execute_input": "2025-02-24T23:07:33.792921Z",
     "iopub.status.busy": "2025-02-24T23:07:33.792403Z",
     "iopub.status.idle": "2025-02-24T23:07:34.063350Z",
     "shell.execute_reply": "2025-02-24T23:07:34.062405Z"
    },
    "papermill": {
     "duration": 0.278355,
     "end_time": "2025-02-24T23:07:34.064797",
     "exception": false,
     "start_time": "2025-02-24T23:07:33.786442",
     "status": "completed"
    },
    "tags": []
   },
   "outputs": [],
   "source": [
    "submission_df.to_csv('/kaggle/working/submission.csv', index=False)"
   ]
  }
 ],
 "metadata": {
  "kaggle": {
   "accelerator": "none",
   "dataSources": [
    {
     "databundleVersionId": 11165145,
     "sourceId": 91497,
     "sourceType": "competition"
    }
   ],
   "dockerImageVersionId": 30918,
   "isGpuEnabled": false,
   "isInternetEnabled": true,
   "language": "python",
   "sourceType": "notebook"
  },
  "kernelspec": {
   "display_name": "Python 3",
   "language": "python",
   "name": "python3"
  },
  "language_info": {
   "codemirror_mode": {
    "name": "ipython",
    "version": 3
   },
   "file_extension": ".py",
   "mimetype": "text/x-python",
   "name": "python",
   "nbconvert_exporter": "python",
   "pygments_lexer": "ipython3",
   "version": "3.10.12"
  },
  "papermill": {
   "default_parameters": {},
   "duration": 1059.702184,
   "end_time": "2025-02-24T23:07:34.892198",
   "environment_variables": {},
   "exception": null,
   "input_path": "__notebook__.ipynb",
   "output_path": "__notebook__.ipynb",
   "parameters": {},
   "start_time": "2025-02-24T22:49:55.190014",
   "version": "2.6.0"
  }
 },
 "nbformat": 4,
 "nbformat_minor": 5
}
